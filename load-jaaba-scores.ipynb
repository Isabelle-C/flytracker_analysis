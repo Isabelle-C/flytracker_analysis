{
 "cells": [
  {
   "cell_type": "code",
   "execution_count": 1,
   "id": "ff729c82",
   "metadata": {},
   "outputs": [],
   "source": [
    "import os\n",
    "import glob\n",
    "import yaml\n",
    "\n",
    "import numpy as np\n",
    "import pandas as pd\n",
    "import seaborn as sns\n",
    "import pylab as pl\n",
    "\n",
    "import matplotlib as mpl\n",
    "\n",
    "import plotting as putil\n",
    "import dlc as dlc\n",
    "import utils as util\n",
    "\n",
    "import importlib"
   ]
  },
  {
   "cell_type": "code",
   "execution_count": 2,
   "id": "16058b09",
   "metadata": {},
   "outputs": [],
   "source": [
    "%matplotlib notebook"
   ]
  },
  {
   "cell_type": "code",
   "execution_count": 215,
   "id": "b9a13b83",
   "metadata": {},
   "outputs": [],
   "source": [
    "# srcfile = '/Volumes/Giacomo/MATLAB/proj_data_changing_size_speed.mat'\n",
    "srcfile = '/Users/julianarhee/Documents/rutalab/projects/courtship/2d-projector/JAABA/projector.mat'\n",
    "\n",
    "# srcfile = '/Volumes/Giacomo/MATLAB/free_behavior_data.mat'\n",
    "srcfile = '/Volumes/Julie/free-behavior-analysis/38mm-dyad/jaaba.mat'"
   ]
  },
  {
   "cell_type": "code",
   "execution_count": 216,
   "id": "fdad78cb",
   "metadata": {},
   "outputs": [],
   "source": [
    "# import mat73\n",
    "mat = scipy.io.loadmat(srcfile)\n",
    "# mat = mat73.loadmat(srcfile)"
   ]
  },
  {
   "cell_type": "code",
   "execution_count": 220,
   "id": "5900ae88",
   "metadata": {},
   "outputs": [],
   "source": [
    "# mdata = mat.get('data')\n",
    "mdata = mat.get('sd')"
   ]
  },
  {
   "cell_type": "code",
   "execution_count": 221,
   "id": "aca06ce0",
   "metadata": {},
   "outputs": [
    {
     "data": {
      "text/plain": [
       "dtype([('name', 'O'), ('copulation_index', 'O'), ('species', 'O'), ('courtship', 'O'), ('courtship_starts', 'O'), ('courtship_ends', 'O'), ('singing', 'O'), ('chasing', 'O'), ('orienting', 'O')])"
      ]
     },
     "execution_count": 221,
     "metadata": {},
     "output_type": "execute_result"
    }
   ],
   "source": [
    "mdtype = mdata.dtype\n",
    "mdtype"
   ]
  },
  {
   "cell_type": "code",
   "execution_count": 222,
   "id": "94ae0882",
   "metadata": {},
   "outputs": [],
   "source": [
    "ndata = {n: mdata[n][0] for n in mdtype.names}\n",
    "# columns = [n[0] for n in ndata['names'][0]]"
   ]
  },
  {
   "cell_type": "code",
   "execution_count": 224,
   "id": "c7d9e12f",
   "metadata": {},
   "outputs": [
    {
     "data": {
      "text/plain": [
       "dict_keys(['name', 'copulation_index', 'species', 'courtship', 'courtship_starts', 'courtship_ends', 'singing', 'chasing', 'orienting'])"
      ]
     },
     "execution_count": 224,
     "metadata": {},
     "output_type": "execute_result"
    }
   ],
   "source": [
    "ndata.keys()"
   ]
  },
  {
   "cell_type": "code",
   "execution_count": 203,
   "id": "9d2ffad1",
   "metadata": {},
   "outputs": [
    {
     "data": {
      "text/plain": [
       "array([ 0.30900463,  0.30900463,  0.1185174 , ..., 23.50218966,\n",
       "       24.80653554, 28.19973931])"
      ]
     },
     "execution_count": 203,
     "metadata": {},
     "output_type": "execute_result"
    }
   ],
   "source": [
    "ndata['feat_dot'][37]['data'][0][0][0, :, 0]"
   ]
  },
  {
   "cell_type": "code",
   "execution_count": 241,
   "id": "9a1a075a",
   "metadata": {},
   "outputs": [
    {
     "data": {
      "text/plain": [
       "dict_keys(['name', 'copulation_index', 'species', 'courtship', 'courtship_starts', 'courtship_ends', 'singing', 'chasing', 'orienting'])"
      ]
     },
     "execution_count": 241,
     "metadata": {},
     "output_type": "execute_result"
    }
   ],
   "source": [
    "ndata.keys()"
   ]
  },
  {
   "cell_type": "code",
   "execution_count": 243,
   "id": "fc2db8e3",
   "metadata": {},
   "outputs": [
    {
     "ename": "KeyError",
     "evalue": "0",
     "output_type": "error",
     "traceback": [
      "\u001b[0;31m---------------------------------------------------------------------------\u001b[0m",
      "\u001b[0;31mKeyError\u001b[0m                                  Traceback (most recent call last)",
      "Cell \u001b[0;32mIn[243], line 1\u001b[0m\n\u001b[0;32m----> 1\u001b[0m \u001b[43mndata\u001b[49m\u001b[43m[\u001b[49m\u001b[38;5;241;43m0\u001b[39;49m\u001b[43m]\u001b[49m[\u001b[38;5;124m'\u001b[39m\u001b[38;5;124mcourting\u001b[39m\u001b[38;5;124m'\u001b[39m]\n",
      "\u001b[0;31mKeyError\u001b[0m: 0"
     ]
    }
   ],
   "source": [
    "ndata[0]['courting']"
   ]
  },
  {
   "cell_type": "code",
   "execution_count": null,
   "id": "429d86a8",
   "metadata": {},
   "outputs": [],
   "source": []
  },
  {
   "cell_type": "code",
   "execution_count": 226,
   "id": "a3339b04",
   "metadata": {},
   "outputs": [
    {
     "data": {
      "text/plain": [
       "(1, array([0, 0, 0, ..., 0, 0, 0], dtype=uint8))"
      ]
     },
     "execution_count": 226,
     "metadata": {},
     "output_type": "execute_result"
    }
   ],
   "source": [
    "ndata['singing'][0].max(), ndata['singing'][0].squeeze()"
   ]
  },
  {
   "cell_type": "code",
   "execution_count": 235,
   "id": "5d818d27",
   "metadata": {},
   "outputs": [],
   "source": [
    "d_list = []\n",
    "for i in range(ndata['name'].shape[0]):\n",
    "    acq = str(ndata['name'][i][0])\n",
    "    #sz = int(ndata['stim_size'][i])\n",
    "    #age = int(ndata['age'][i])\n",
    "    sp = acq.split('_')[3]#[2]\n",
    "#     print(acq, sz, age, sp)\n",
    "    sing_ = ndata['singing'][i].squeeze()\n",
    "    ori_ = ndata['orienting'][i].squeeze()\n",
    "    chase_ = ndata['chasing'][i].squeeze()\n",
    "    court_ = ndata['courtship'][i].squeeze()\n",
    "    #dot_vel = ndata['feat_dot'][i]['data'][0][0][0, :, 0]\n",
    "    d_ = pd.DataFrame({'singing': sing_, 'chasing': chase_, 'orienting': ori_,\n",
    "                      'courting': court_}) #, 'dot_vel': dot_vel})\n",
    "    d_['acquisition'] = acq\n",
    "    #d_['stimsize'] = sz\n",
    "    #d_['dot_vel'] = vel\n",
    "    d_['age'] = age\n",
    "    d_['species'] = sp\n",
    "    d_list.append(d_)\n",
    "scores = pd.concat(d_list)"
   ]
  },
  {
   "cell_type": "code",
   "execution_count": 236,
   "id": "d2b42c31",
   "metadata": {},
   "outputs": [],
   "source": [
    "import pickle as pkl"
   ]
  },
  {
   "cell_type": "code",
   "execution_count": 237,
   "id": "cdc543df",
   "metadata": {},
   "outputs": [],
   "source": [
    "outfile = srcfile.replace('.mat', '.pkl')\n",
    "with open(outfile, 'wb') as f:\n",
    "    pkl.dump(scores, f)"
   ]
  },
  {
   "cell_type": "code",
   "execution_count": 234,
   "id": "7b2981cf",
   "metadata": {},
   "outputs": [
    {
     "data": {
      "text/plain": [
       "'/Volumes/Julie/free-behavior-analysis/38mm-dyad/jaaba.mat'"
      ]
     },
     "execution_count": 234,
     "metadata": {},
     "output_type": "execute_result"
    }
   ],
   "source": [
    "srcfile"
   ]
  },
  {
   "cell_type": "code",
   "execution_count": null,
   "id": "4025167a",
   "metadata": {},
   "outputs": [],
   "source": []
  }
 ],
 "metadata": {
  "kernelspec": {
   "display_name": "Python 3 (ipykernel)",
   "language": "python",
   "name": "python3"
  },
  "language_info": {
   "codemirror_mode": {
    "name": "ipython",
    "version": 3
   },
   "file_extension": ".py",
   "mimetype": "text/x-python",
   "name": "python",
   "nbconvert_exporter": "python",
   "pygments_lexer": "ipython3",
   "version": "3.8.18"
  }
 },
 "nbformat": 4,
 "nbformat_minor": 5
}
