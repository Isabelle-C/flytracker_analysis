{
 "cells": [
  {
   "cell_type": "code",
   "execution_count": null,
   "id": "47cc4445",
   "metadata": {},
   "outputs": [],
   "source": [
    "import scipy.io\n",
    "import os\n",
    "import re\n",
    "import glob\n",
    "import importlib\n",
    "\n",
    "import pandas as pd\n",
    "import pylab as pl\n",
    "import numpy as np\n",
    "import seaborn as sns\n",
    "import matplotlib.gridspec as gridspec\n",
    "\n",
    "\n",
    "import utils as util\n",
    "import plotting as putil\n",
    "import importlib"
   ]
  },
  {
   "cell_type": "code",
   "execution_count": null,
   "id": "261089f3",
   "metadata": {},
   "outputs": [],
   "source": [
    "%matplotlib notebook"
   ]
  },
  {
   "cell_type": "code",
   "execution_count": null,
   "id": "c6f766c7",
   "metadata": {},
   "outputs": [],
   "source": [
    "putil.set_sns_style(style='dark', min_fontsize=12)"
   ]
  },
  {
   "cell_type": "markdown",
   "id": "61192bf7",
   "metadata": {},
   "source": [
    "## src dirs"
   ]
  },
  {
   "cell_type": "code",
   "execution_count": null,
   "id": "053232d8",
   "metadata": {},
   "outputs": [],
   "source": [
    "rootdir = '/Volumes/Julie'\n",
    "viddir = os.path.join(rootdir, 'courtship-videos')\n",
    "#rootdir = '/mnt/minerva/courtship-videos'\n",
    "# rootdir = '/mnt/sda/Videos'\n",
    "assay='single_20mm_1x1'\n",
    "\n",
    "sessionpaths = sorted(glob.glob(os.path.join(viddir, assay, '202*')), key=util.natsort)\n",
    "len(sessionpaths)"
   ]
  },
  {
   "cell_type": "markdown",
   "id": "f781cc7a",
   "metadata": {},
   "source": [
    "## matlab src"
   ]
  },
  {
   "cell_type": "code",
   "execution_count": null,
   "id": "fcad5724",
   "metadata": {},
   "outputs": [],
   "source": [
    "ftdir = os.path.join( rootdir, 'analysis/FlyTracker')\n",
    "#basedir = '/mnt/minerva/analysis/FlyTracker'\n",
    "# matlab_src = '/home/julianarhee/Documents/projects/flytracker-analysis/overviews2/Ddata.mat'\n",
    "matlab_src = os.path.join(ftdir, 'flytracker-matlab/overviews2/Ddata.mat')\n",
    "# Set save dir\n",
    "destdir = os.path.join(ftdir, 'figures')\n",
    "if not os.path.exists(destdir):\n",
    "    os.makedirs(destdir)\n",
    "# set FIGID\n",
    "figid = 'flytracker-matlab/overviews2/Ddata.mat'"
   ]
  },
  {
   "cell_type": "code",
   "execution_count": null,
   "id": "7cc0d190",
   "metadata": {},
   "outputs": [],
   "source": []
  },
  {
   "cell_type": "code",
   "execution_count": null,
   "id": "a3fd6f55",
   "metadata": {},
   "outputs": [],
   "source": [
    "events_fpath = os.path.join(ftdir, 'events.pkl')\n",
    "events0 = pd.read_pickle(events_fpath) # encoding='latin1')\n",
    "events0.head()"
   ]
  }
 ],
 "metadata": {
  "kernelspec": {
   "display_name": "Python 3 (ipykernel)",
   "language": "python",
   "name": "python3"
  },
  "language_info": {
   "codemirror_mode": {
    "name": "ipython",
    "version": 3
   },
   "file_extension": ".py",
   "mimetype": "text/x-python",
   "name": "python",
   "nbconvert_exporter": "python",
   "pygments_lexer": "ipython3",
   "version": "3.9.13"
  }
 },
 "nbformat": 4,
 "nbformat_minor": 5
}
