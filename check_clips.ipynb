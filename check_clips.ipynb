{
 "cells": [
  {
   "cell_type": "code",
   "execution_count": 5,
   "id": "b73fc57d",
   "metadata": {},
   "outputs": [],
   "source": [
    "import glob\n",
    "import os\n",
    "\n",
    "import utils as util"
   ]
  },
  {
   "cell_type": "code",
   "execution_count": 47,
   "id": "337122f9",
   "metadata": {},
   "outputs": [],
   "source": [
    "rootdir = '/mnt/sda/Videos'\n",
    "assay_prefix='single_20mm_triad_2x1'\n",
    "\n",
    "assay_dir = glob.glob(os.path.join(rootdir, assay_prefix))[0]\n"
   ]
  },
  {
   "cell_type": "code",
   "execution_count": 48,
   "id": "aca46acd",
   "metadata": {},
   "outputs": [
    {
     "data": {
      "text/plain": [
       "['/mnt/sda/Videos/single_20mm_triad_2x1/20220203-1135_ctns_3do_gh_triad/clips/copulation30sec_0140-0210__20220203-1135_ctns_3do_gh_triad.avi',\n",
       " '/mnt/sda/Videos/single_20mm_triad_2x1/20220203-1053_mauR_7do_sh_triad/clips/copulation30sec_0702-0730__20220203-1053_mauR_7do_sh_triad.avi',\n",
       " '/mnt/sda/Videos/single_20mm_triad_2x1/20220209-0908_yak_4do_sh_triad_2x1/clips/copulation30sec_1600-1625__20220209-0908_yak_4do_sh_triad_2x1.avi',\n",
       " '/mnt/sda/Videos/single_20mm_triad_2x1/20220209-1043_mauR4_5do_sh_triad_2x1/clips/copulation30sec_1000-1036__20220209-1043_mauR4_5do_sh_triad_2x1.avi']"
      ]
     },
     "execution_count": 48,
     "metadata": {},
     "output_type": "execute_result"
    }
   ],
   "source": [
    "glob.glob(os.path.join(assay_dir, '2022*', 'clips', '*copulation*'))"
   ]
  },
  {
   "cell_type": "code",
   "execution_count": 49,
   "id": "52d02fb4",
   "metadata": {},
   "outputs": [
    {
     "data": {
      "text/plain": [
       "['/mnt/sda/Videos/single_20mm_triad_2x1/20220203-1135_ctns_3do_gh_triad/clips/copulation30sec_0140-0210__20220203-1135_ctns_3do_gh_triad.avi',\n",
       " '/mnt/sda/Videos/single_20mm_triad_2x1/20220203-1053_mauR_7do_sh_triad/clips/copulation30sec_0702-0730__20220203-1053_mauR_7do_sh_triad.avi',\n",
       " '/mnt/sda/Videos/single_20mm_triad_2x1/20220209-0908_yak_4do_sh_triad_2x1/clips/copulation30sec_1600-1625__20220209-0908_yak_4do_sh_triad_2x1.avi',\n",
       " '/mnt/sda/Videos/single_20mm_triad_2x1/20220209-1043_mauR4_5do_sh_triad_2x1/clips/copulation30sec_1000-1036__20220209-1043_mauR4_5do_sh_triad_2x1.avi']"
      ]
     },
     "execution_count": 49,
     "metadata": {},
     "output_type": "execute_result"
    }
   ],
   "source": [
    "glob.glob(os.path.join(assay_dir, '2022*', 'clips', '*copulation*'))"
   ]
  },
  {
   "cell_type": "code",
   "execution_count": 52,
   "id": "9b56d5ee",
   "metadata": {},
   "outputs": [],
   "source": [
    "dst_root = '/mnt/minerva'\n",
    "dst_dir = os.path.join(dst_root, assay_prefix, 'clips')"
   ]
  },
  {
   "cell_type": "code",
   "execution_count": 53,
   "id": "20fa53f3",
   "metadata": {},
   "outputs": [],
   "source": [
    "\n",
    "created_clips = sorted(glob.glob(os.path.join(assay_dir, '2022*', 'clips')), key=util.natsort)\n",
    "\n",
    "for cpath in created_clips:\n",
    "    acq = cpath.split(assay_dir+'/')[1].split('/clips')[0]\n",
    "    \n",
    "    if not os.path.exists(os.path.join(dst_dir, acq)) or len(glob.glob(os.path.join(dst_dir, acq, '*.m4v')) )==0:\n",
    "        try:\n",
    "            os.makedirs(os.path.join(dst_dir, acq))\n",
    "        except FileExistsError:\n",
    "            pass\n",
    "        print(acq)"
   ]
  },
  {
   "cell_type": "code",
   "execution_count": 46,
   "id": "9c9d2979",
   "metadata": {},
   "outputs": [
    {
     "data": {
      "text/plain": [
       "['20220203-0912_sant_3do_sh',\n",
       " '20220202-1531_mauR_7do_sh',\n",
       " '20220128-1555_mauR4_4do_gh',\n",
       " '20220203-1025_sant_3do_sh',\n",
       " '20220202-0918_yak_3do_sh',\n",
       " '20220130-1125_ctns_4do_sh',\n",
       " '20220203-0955_mauR_7do_sh',\n",
       " '20220212-1117_mauR4_3do_sh',\n",
       " '20220203-1147_yak_7do_sh',\n",
       " '20220128-1516_mauR4_4do_gh',\n",
       " '20220212-1150_ctns_3do_sh',\n",
       " '.DS_Store',\n",
       " '20220202-1013_yak_3do_sh',\n",
       " '20220212-0916_yak_6do_sh',\n",
       " '20220202-1122_mauW_7do_sh',\n",
       " '20220130-1143_mauR_4do_sh',\n",
       " '20220203-1020_mauR_7do_sh',\n",
       " '20220127-1628_mauR4_3do_gh',\n",
       " '20220203-0951_sant_3do_sh',\n",
       " '20220202-0930_mauW_7do_sh']"
      ]
     },
     "execution_count": 46,
     "metadata": {},
     "output_type": "execute_result"
    }
   ],
   "source": [
    "os.listdir(dst_dir)"
   ]
  },
  {
   "cell_type": "code",
   "execution_count": null,
   "id": "bed9df6c",
   "metadata": {},
   "outputs": [],
   "source": []
  }
 ],
 "metadata": {
  "kernelspec": {
   "display_name": "Python 3",
   "language": "python",
   "name": "python3"
  },
  "language_info": {
   "codemirror_mode": {
    "name": "ipython",
    "version": 3
   },
   "file_extension": ".py",
   "mimetype": "text/x-python",
   "name": "python",
   "nbconvert_exporter": "python",
   "pygments_lexer": "ipython3",
   "version": "3.8.8"
  }
 },
 "nbformat": 4,
 "nbformat_minor": 5
}
