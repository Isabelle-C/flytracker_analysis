{
 "cells": [
  {
   "cell_type": "code",
   "execution_count": 2,
   "id": "ba47ae61",
   "metadata": {},
   "outputs": [],
   "source": [
    "import os\n",
    "import glob\n",
    "import subprocess"
   ]
  },
  {
   "cell_type": "code",
   "execution_count": 6,
   "id": "ba775482",
   "metadata": {},
   "outputs": [
    {
     "name": "stdout",
     "output_type": "stream",
     "text": [
      "37\n"
     ]
    }
   ],
   "source": [
    "srcdir = '/Volumes/Giacomo/free_behavior_data'\n",
    "srcvids = glob.glob(os.path.join(srcdir, '20*', '*.avi'))\n",
    "print(len(srcvids))"
   ]
  },
  {
   "cell_type": "code",
   "execution_count": 5,
   "id": "32152935",
   "metadata": {},
   "outputs": [
    {
     "data": {
      "text/plain": [
       "['/Volumes/Giacomo/free_behavior_data/20240119-0932-fly1-yakWT_4do_sh_yakWT_4do_gh/09_32_37MJPG-0000.avi',\n",
       " '/Volumes/Giacomo/free_behavior_data/20240118-1415-fly2-melWT_3do_sh_melWT_3do_gh/14_13_09MJPG-0000.avi',\n",
       " '/Volumes/Giacomo/free_behavior_data/20240115-1015-fly1-melWT_3do_sh_melWT_3do_gh/10_09_01MJPG-0000.avi',\n",
       " '/Volumes/Giacomo/free_behavior_data/20240116-1015-fly1-yakWT_4do_sh_yakWT_4do_gh/10_17_23MJPG-0000.avi',\n",
       " '/Volumes/Giacomo/free_behavior_data/20240116-1500-fly3-yakWT_4do_sh_yakWT_4do_gh/14_51_22MJPG-0000.avi',\n",
       " '/Volumes/Giacomo/free_behavior_data/20240118-1130-fly1-melWT_3do_sh_melWT_3do_gh/11_32_55MJPG-0000.avi',\n",
       " '/Volumes/Giacomo/free_behavior_data/20240112-1030-fly2-melWT_3do_sh_melWT_3do_gh/10_30_25MJPG-0000.avi',\n",
       " '/Volumes/Giacomo/free_behavior_data/20240126-0940-fly1-melWT_4do_sh_melWT_4do_gh/09_39_32MJPG-0000.avi',\n",
       " '/Volumes/Giacomo/free_behavior_data/20240122-1050-fly1-yakWT_3do_sh_yakWT_3do_gh/10_49_29MJPG-0000.avi']"
      ]
     },
     "execution_count": 5,
     "metadata": {},
     "output_type": "execute_result"
    }
   ],
   "source": [
    "srcvids"
   ]
  },
  {
   "cell_type": "code",
   "execution_count": 13,
   "id": "cb606ab1",
   "metadata": {},
   "outputs": [
    {
     "name": "stdout",
     "output_type": "stream",
     "text": [
      "/Volumes/Giacomo/free_behavior_data/20240129-1213-fly1-melWT_3do_sh_melWT_3do_gh/12_13_19MJPG-0002_trimmed.avi\n",
      "jrhee@login04-hpc.rockefeller.edu:/rugpfs/fs0/ruta_lab/store/jrhee/DeepLabCut/38mm-dyad/videos/20240129-1213-fly1-melWT_3do_sh_melWT_3do_gh.avi\n",
      "/Volumes/Giacomo/free_behavior_data/20240119-0932-fly1-yakWT_4do_sh_yakWT_4do_gh/09_32_37MJPG-0000.avi\n",
      "jrhee@login04-hpc.rockefeller.edu:/rugpfs/fs0/ruta_lab/store/jrhee/DeepLabCut/38mm-dyad/videos/20240119-0932-fly1-yakWT_4do_sh_yakWT_4do_gh.avi\n",
      "/Volumes/Giacomo/free_behavior_data/20240118-1415-fly2-melWT_3do_sh_melWT_3do_gh/14_13_09MJPG-0000.avi\n",
      "jrhee@login04-hpc.rockefeller.edu:/rugpfs/fs0/ruta_lab/store/jrhee/DeepLabCut/38mm-dyad/videos/20240118-1415-fly2-melWT_3do_sh_melWT_3do_gh.avi\n",
      "/Volumes/Giacomo/free_behavior_data/20240126-1046-fly3-melWT_4do_sh_melWT_4do_gh/10_46_31MJPG-0002.avi\n",
      "jrhee@login04-hpc.rockefeller.edu:/rugpfs/fs0/ruta_lab/store/jrhee/DeepLabCut/38mm-dyad/videos/20240126-1046-fly3-melWT_4do_sh_melWT_4do_gh.avi\n",
      "/Volumes/Giacomo/free_behavior_data/20240112-1420-fly3-yakWT_3do_sh_yakWT_3do_gh/14_16_44MJPG-0002.avi\n",
      "jrhee@login04-hpc.rockefeller.edu:/rugpfs/fs0/ruta_lab/store/jrhee/DeepLabCut/38mm-dyad/videos/20240112-1420-fly3-yakWT_3do_sh_yakWT_3do_gh.avi\n",
      "/Volumes/Giacomo/free_behavior_data/20240125-0956-fly1-yakWT_3do_sh_yakWT_3do_gh/09_56_32MJPG-0003.avi\n",
      "jrhee@login04-hpc.rockefeller.edu:/rugpfs/fs0/ruta_lab/store/jrhee/DeepLabCut/38mm-dyad/videos/20240125-0956-fly1-yakWT_3do_sh_yakWT_3do_gh.avi\n",
      "/Volumes/Giacomo/free_behavior_data/20240115-1015-fly1-melWT_3do_sh_melWT_3do_gh/10_09_01MJPG-0000.avi\n",
      "jrhee@login04-hpc.rockefeller.edu:/rugpfs/fs0/ruta_lab/store/jrhee/DeepLabCut/38mm-dyad/videos/20240115-1015-fly1-melWT_3do_sh_melWT_3do_gh.avi\n",
      "/Volumes/Giacomo/free_behavior_data/20240116-1015-fly1-yakWT_4do_sh_yakWT_4do_gh/10_17_23MJPG-0000.avi\n",
      "jrhee@login04-hpc.rockefeller.edu:/rugpfs/fs0/ruta_lab/store/jrhee/DeepLabCut/38mm-dyad/videos/20240116-1015-fly1-yakWT_4do_sh_yakWT_4do_gh.avi\n",
      "/Volumes/Giacomo/free_behavior_data/20240115-1100-fly2-melWT_3do_sh_melWT_3do_gh/10_53_23MJPG-0001_cropped.avi\n",
      "jrhee@login04-hpc.rockefeller.edu:/rugpfs/fs0/ruta_lab/store/jrhee/DeepLabCut/38mm-dyad/videos/20240115-1100-fly2-melWT_3do_sh_melWT_3do_gh.avi\n",
      "/Volumes/Giacomo/free_behavior_data/20240119-1517-fly7-yakWT_3do_sh_yakWT_3do_gh/15_16_36MJPG-0006.avi\n",
      "jrhee@login04-hpc.rockefeller.edu:/rugpfs/fs0/ruta_lab/store/jrhee/DeepLabCut/38mm-dyad/videos/20240119-1517-fly7-yakWT_3do_sh_yakWT_3do_gh.avi\n",
      "/Volumes/Giacomo/free_behavior_data/20240122-1442-fly4-yakWT_3do_sh_yakWT_3do_gh/14_41_53MJPG-0003.avi\n",
      "jrhee@login04-hpc.rockefeller.edu:/rugpfs/fs0/ruta_lab/store/jrhee/DeepLabCut/38mm-dyad/videos/20240122-1442-fly4-yakWT_3do_sh_yakWT_3do_gh.avi\n",
      "/Volumes/Giacomo/free_behavior_data/20240116-1650-fly6-melWT_4do_sh_melWT_4do_gh_BADTRACKING/16_51_21MJPG-0003.avi\n",
      "jrhee@login04-hpc.rockefeller.edu:/rugpfs/fs0/ruta_lab/store/jrhee/DeepLabCut/38mm-dyad/videos/20240116-1650-fly6-melWT_4do_sh_melWT_4do_gh_BADTRACKING.avi\n",
      "/Volumes/Giacomo/free_behavior_data/20240126-1122-fly5-melWT_4do_sh_melWT_4do_gh/11_22_25MJPG-0004.avi\n",
      "jrhee@login04-hpc.rockefeller.edu:/rugpfs/fs0/ruta_lab/store/jrhee/DeepLabCut/38mm-dyad/videos/20240126-1122-fly5-melWT_4do_sh_melWT_4do_gh.avi\n",
      "/Volumes/Giacomo/free_behavior_data/20240122-1105-fly2-yakWT_3do_sh_yakWT_3do_gh/11_05_55MJPG-0001.avi\n",
      "jrhee@login04-hpc.rockefeller.edu:/rugpfs/fs0/ruta_lab/store/jrhee/DeepLabCut/38mm-dyad/videos/20240122-1105-fly2-yakWT_3do_sh_yakWT_3do_gh.avi\n",
      "/Volumes/Giacomo/free_behavior_data/20240112-1500-fly4-yakWT_3do_sh_yakWT_3do_gh/15_01_24MJPG-0003.avi\n",
      "jrhee@login04-hpc.rockefeller.edu:/rugpfs/fs0/ruta_lab/store/jrhee/DeepLabCut/38mm-dyad/videos/20240112-1500-fly4-yakWT_3do_sh_yakWT_3do_gh.avi\n",
      "/Volumes/Giacomo/free_behavior_data/20240125-1030-fly2-yakWT_3do_sh_yakWT_3do_gh/10_29_31MJPG-0004.avi\n",
      "jrhee@login04-hpc.rockefeller.edu:/rugpfs/fs0/ruta_lab/store/jrhee/DeepLabCut/38mm-dyad/videos/20240125-1030-fly2-yakWT_3do_sh_yakWT_3do_gh.avi\n",
      "/Volumes/Giacomo/free_behavior_data/20240116-1500-fly3-yakWT_4do_sh_yakWT_4do_gh/14_51_22MJPG-0000.avi\n",
      "jrhee@login04-hpc.rockefeller.edu:/rugpfs/fs0/ruta_lab/store/jrhee/DeepLabCut/38mm-dyad/videos/20240116-1500-fly3-yakWT_4do_sh_yakWT_4do_gh.avi\n",
      "/Volumes/Giacomo/free_behavior_data/20240119-1149-fly5-melWT_4do_sh_melWT_4do_gh/11_49_36MJPG-0004.avi\n",
      "jrhee@login04-hpc.rockefeller.edu:/rugpfs/fs0/ruta_lab/store/jrhee/DeepLabCut/38mm-dyad/videos/20240119-1149-fly5-melWT_4do_sh_melWT_4do_gh.avi\n",
      "/Volumes/Giacomo/free_behavior_data/20240118-1130-fly1-melWT_3do_sh_melWT_3do_gh/11_32_55MJPG-0000.avi\n",
      "jrhee@login04-hpc.rockefeller.edu:/rugpfs/fs0/ruta_lab/store/jrhee/DeepLabCut/38mm-dyad/videos/20240118-1130-fly1-melWT_3do_sh_melWT_3do_gh.avi\n",
      "/Volumes/Giacomo/free_behavior_data/20240118-1130-fly1-melWT_3do_sh_melWT_3do_gh/11_32_55MJPG-0000_cropped.avi\n",
      "jrhee@login04-hpc.rockefeller.edu:/rugpfs/fs0/ruta_lab/store/jrhee/DeepLabCut/38mm-dyad/videos/20240118-1130-fly1-melWT_3do_sh_melWT_3do_gh.avi\n",
      "/Volumes/Giacomo/free_behavior_data/20240126-1108-fly4-melWT_4do_sh_melWT_4do_gh/11_08_06MJPG-0003.avi\n",
      "jrhee@login04-hpc.rockefeller.edu:/rugpfs/fs0/ruta_lab/store/jrhee/DeepLabCut/38mm-dyad/videos/20240126-1108-fly4-melWT_4do_sh_melWT_4do_gh.avi\n",
      "/Volumes/Giacomo/free_behavior_data/20240112-1030-fly2-melWT_3do_sh_melWT_3do_gh/10_30_25MJPG-0000.avi\n",
      "jrhee@login04-hpc.rockefeller.edu:/rugpfs/fs0/ruta_lab/store/jrhee/DeepLabCut/38mm-dyad/videos/20240112-1030-fly2-melWT_3do_sh_melWT_3do_gh.avi\n",
      "/Volumes/Giacomo/free_behavior_data/20240116-1100-fly2-yakWT_4do_sh_yakWT_4do_gh/11_01_04MJPG-0001.avi\n",
      "jrhee@login04-hpc.rockefeller.edu:/rugpfs/fs0/ruta_lab/store/jrhee/DeepLabCut/38mm-dyad/videos/20240116-1100-fly2-yakWT_4do_sh_yakWT_4do_gh.avi\n",
      "/Volumes/Giacomo/free_behavior_data/20240126-0940-fly1-melWT_4do_sh_melWT_4do_gh/09_39_32MJPG-0000.avi\n",
      "jrhee@login04-hpc.rockefeller.edu:/rugpfs/fs0/ruta_lab/store/jrhee/DeepLabCut/38mm-dyad/videos/20240126-0940-fly1-melWT_4do_sh_melWT_4do_gh.avi\n",
      "/Volumes/Giacomo/free_behavior_data/20240125-1203-fly5-yakWT_3do_sh_yakWT_3do_gh/12_03_15MJPG-0007.avi\n",
      "jrhee@login04-hpc.rockefeller.edu:/rugpfs/fs0/ruta_lab/store/jrhee/DeepLabCut/38mm-dyad/videos/20240125-1203-fly5-yakWT_3do_sh_yakWT_3do_gh.avi\n",
      "/Volumes/Giacomo/free_behavior_data/20240122-1050-fly1-yakWT_3do_sh_yakWT_3do_gh/10_49_29MJPG-0000.avi\n",
      "jrhee@login04-hpc.rockefeller.edu:/rugpfs/fs0/ruta_lab/store/jrhee/DeepLabCut/38mm-dyad/videos/20240122-1050-fly1-yakWT_3do_sh_yakWT_3do_gh.avi\n",
      "/Volumes/Giacomo/free_behavior_data/20240118-1425-fly3-melWT_3do_sh_melWT_3do_gh/14_24_54MJPG-0001.avi\n",
      "jrhee@login04-hpc.rockefeller.edu:/rugpfs/fs0/ruta_lab/store/jrhee/DeepLabCut/38mm-dyad/videos/20240118-1425-fly3-melWT_3do_sh_melWT_3do_gh.avi\n",
      "/Volumes/Giacomo/free_behavior_data/20240122-1713-fly6-melWT_3do_sh_melWT_3do_gh/17_13_06MJPG-0005.avi\n",
      "jrhee@login04-hpc.rockefeller.edu:/rugpfs/fs0/ruta_lab/store/jrhee/DeepLabCut/38mm-dyad/videos/20240122-1713-fly6-melWT_3do_sh_melWT_3do_gh.avi\n",
      "/Volumes/Giacomo/free_behavior_data/20240116-1523-fly4-yakWT_4do_sh_yakWT_4do_gh/15_22_50MJPG-0001.avi\n",
      "jrhee@login04-hpc.rockefeller.edu:/rugpfs/fs0/ruta_lab/store/jrhee/DeepLabCut/38mm-dyad/videos/20240116-1523-fly4-yakWT_4do_sh_yakWT_4do_gh.avi\n",
      "/Volumes/Giacomo/free_behavior_data/20240119-1107-fly4-melWT_4do_sh_melWT_4do_gh/11_07_45MJPG-0003.avi\n",
      "jrhee@login04-hpc.rockefeller.edu:/rugpfs/fs0/ruta_lab/store/jrhee/DeepLabCut/38mm-dyad/videos/20240119-1107-fly4-melWT_4do_sh_melWT_4do_gh.avi\n",
      "/Volumes/Giacomo/free_behavior_data/20240126-1023-fly2-melWT_4do_sh_melWT_4do_gh/10_24_28MJPG-0001.avi\n",
      "jrhee@login04-hpc.rockefeller.edu:/rugpfs/fs0/ruta_lab/store/jrhee/DeepLabCut/38mm-dyad/videos/20240126-1023-fly2-melWT_4do_sh_melWT_4do_gh.avi\n",
      "/Volumes/Giacomo/free_behavior_data/20240116-1601-fly5-yakWT_4do_sh_yakWT_4do_gh/16_01_40MJPG-0002.avi\n",
      "jrhee@login04-hpc.rockefeller.edu:/rugpfs/fs0/ruta_lab/store/jrhee/DeepLabCut/38mm-dyad/videos/20240116-1601-fly5-yakWT_4do_sh_yakWT_4do_gh.avi\n",
      "/Volumes/Giacomo/free_behavior_data/20240119-1020-fly3-melWT_4do_sh_melWT_4do_gh/10_20_54MJPG-0002.avi\n",
      "jrhee@login04-hpc.rockefeller.edu:/rugpfs/fs0/ruta_lab/store/jrhee/DeepLabCut/38mm-dyad/videos/20240119-1020-fly3-melWT_4do_sh_melWT_4do_gh.avi\n",
      "/Volumes/Giacomo/free_behavior_data/20240119-1420-fly6-yakWT_3do_sh_yakWT_3do_gh/14_21_23MJPG-0005.avi\n",
      "jrhee@login04-hpc.rockefeller.edu:/rugpfs/fs0/ruta_lab/store/jrhee/DeepLabCut/38mm-dyad/videos/20240119-1420-fly6-yakWT_3do_sh_yakWT_3do_gh.avi\n",
      "/Volumes/Giacomo/free_behavior_data/20240122-1148-fly3-yakWT_3do_sh_yakWT_3do_gh/11_48_10MJPG-0002.avi\n",
      "jrhee@login04-hpc.rockefeller.edu:/rugpfs/fs0/ruta_lab/store/jrhee/DeepLabCut/38mm-dyad/videos/20240122-1148-fly3-yakWT_3do_sh_yakWT_3do_gh.avi\n",
      "/Volumes/Giacomo/free_behavior_data/20240125-1050-fly3-yakWT_3do_sh_yakWT_3do_gh/10_51_08MJPG-0005.avi\n",
      "jrhee@login04-hpc.rockefeller.edu:/rugpfs/fs0/ruta_lab/store/jrhee/DeepLabCut/38mm-dyad/videos/20240125-1050-fly3-yakWT_3do_sh_yakWT_3do_gh.avi\n",
      "/Volumes/Giacomo/free_behavior_data/20240119-0953-fly2-yakWT_3do_sh_yakWT_3do_gh/09_52_27MJPG-0001.avi\n",
      "jrhee@login04-hpc.rockefeller.edu:/rugpfs/fs0/ruta_lab/store/jrhee/DeepLabCut/38mm-dyad/videos/20240119-0953-fly2-yakWT_3do_sh_yakWT_3do_gh.avi\n"
     ]
    }
   ],
   "source": [
    "destdir = '/rugpfs/fs0/ruta_lab/store/jrhee/DeepLabCut/38mm-dyad/videos'\n",
    "for vpath in srcvids:\n",
    "    par, fname = os.path.split(vpath)\n",
    "    basename = os.path.split(par)[-1]\n",
    "    newfn = os.path.join(destdir, '{}.avi'.format(basename))\n",
    "    #print(newfn)\n",
    "    print(vpath)\n",
    "    print(\"jrhee@login04-hpc.rockefeller.edu:{}\".format(newfn))\n",
    "    #subprocess.run([\"scp\", vpath, \"jrhee@login04-hpc.rockefeller.edu:{}\".format(newfn)])"
   ]
  },
  {
   "cell_type": "code",
   "execution_count": 10,
   "id": "1f71ff04",
   "metadata": {},
   "outputs": [
    {
     "data": {
      "text/plain": [
       "'jrhee@login04-hpc.rockefeler.edu:/rugpfs/fs0/ruta_lab/store/jrhee/DeepLabCut/38mm-dyad/videos/20240118-1415-fly2-melWT_3do_sh_melWT_3do_gh.avi'"
      ]
     },
     "execution_count": 10,
     "metadata": {},
     "output_type": "execute_result"
    }
   ],
   "source": [
    "/Volumes/Giacomo/free_behavior_data/20240122-1148-fly3-yakWT_3do_sh_yakWT_3do_gh/11_48_10MJPG-0002.avi\n",
    "jrhee@login04-hpc.rockefeller.edu:/rugpfs/fs0/ruta_lab/store/jrhee/DeepLabCut/38mm-dyad/videos/20240122-1148-fly3-yakWT_3do_sh_yakWT_3do_gh.avi\n",
    "\n",
    "/Volumes/Giacomo/free_behavior_data/20240125-1050-fly3-yakWT_3do_sh_yakWT_3do_gh/10_51_08MJPG-0005.avi\n",
    "jrhee@login04-hpc.rockefeller.edu:/rugpfs/fs0/ruta_lab/store/jrhee/DeepLabCut/38mm-dyad/videos/20240125-1050-fly3-yakWT_3do_sh_yakWT_3do_gh.avi\n",
    "\n",
    "/Volumes/Giacomo/free_behavior_data/20240119-0953-fly2-yakWT_3do_sh_yakWT_3do_gh/09_52_27MJPG-0001.avi\n",
    "jrhee@login04-hpc.rockefeller.edu:/rugpfs/fs0/ruta_lab/store/jrhee/DeepLabCut/38mm-dyad/videos/20240119-0953-fly2-yakWT_3do_sh_yakWT_3do_gh.avi"
   ]
  },
  {
   "cell_type": "code",
   "execution_count": null,
   "id": "96fd0d87",
   "metadata": {},
   "outputs": [],
   "source": []
  }
 ],
 "metadata": {
  "kernelspec": {
   "display_name": "Python 3 (ipykernel)",
   "language": "python",
   "name": "python3"
  },
  "language_info": {
   "codemirror_mode": {
    "name": "ipython",
    "version": 3
   },
   "file_extension": ".py",
   "mimetype": "text/x-python",
   "name": "python",
   "nbconvert_exporter": "python",
   "pygments_lexer": "ipython3",
   "version": "3.8.18"
  }
 },
 "nbformat": 4,
 "nbformat_minor": 5
}
