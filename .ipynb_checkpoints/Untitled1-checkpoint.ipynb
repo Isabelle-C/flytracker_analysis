{
 "cells": [
  {
   "cell_type": "code",
   "execution_count": 1,
   "id": "81c5925a",
   "metadata": {},
   "outputs": [],
   "source": [
    "import os\n",
    "import glob\n",
    "import yaml\n",
    "\n",
    "import numpy as np\n",
    "import pandas as pd\n",
    "import seaborn as sns\n",
    "import pylab as pl\n",
    "\n",
    "import matplotlib as mpl\n",
    "\n",
    "import plotting as putil\n",
    "import dlc as dlc\n",
    "import utils as util\n",
    "\n",
    "import importlib"
   ]
  },
  {
   "cell_type": "code",
   "execution_count": 2,
   "id": "536728a3",
   "metadata": {},
   "outputs": [],
   "source": [
    "%matplotlib notebook"
   ]
  },
  {
   "cell_type": "code",
   "execution_count": 3,
   "id": "b0ce10c3",
   "metadata": {},
   "outputs": [],
   "source": [
    "#rootdir = '/mnt/minerva/courtship-free-behavior/maDLCv2' #maDLCv2'\n",
    "rootdir = '/Users/julianarhee/DeepLabCut'\n",
    "projectname = 'projector-1dot-jyr-2024-02-18'\n",
    "project_dir = os.path.join(rootdir, projectname) \n",
    "# load config file\n",
    "cfg_fpath = os.path.join(project_dir, 'config.yaml')\n",
    "with open(cfg_fpath, \"r\") as f:\n",
    "    cfg = yaml.load(f, Loader=yaml.SafeLoader)"
   ]
  },
  {
   "cell_type": "code",
   "execution_count": 4,
   "id": "9a06c653",
   "metadata": {},
   "outputs": [
    {
     "data": {
      "text/plain": [
       "['/Users/julianarhee/DeepLabCut/projector-1dot-jyr-2024-02-18/analyzed/20240212-1230_fly3_Dmel_sP1-ChR_3do_sh_4x4_2024-02-12-122911-0000DLC_dlcrnetms5_projector-1dotFeb18shuffle1_50000_el.h5',\n",
       " '/Users/julianarhee/DeepLabCut/projector-1dot-jyr-2024-02-18/analyzed/20240214-0945_f1_Dele-wt_5do_sh_prj10_sz6x6_2024-02-14-094517-0000DLC_dlcrnetms5_projector-1dotFeb18shuffle1_50000_el.h5',\n",
       " '/Users/julianarhee/DeepLabCut/projector-1dot-jyr-2024-02-18/analyzed/20240214-1025_f1_Dele-wt_5do_sh_prj10_sz10x10_2024-02-14-102617-0000DLC_dlcrnetms5_projector-1dotFeb18shuffle1_50000_el.h5',\n",
       " '/Users/julianarhee/DeepLabCut/projector-1dot-jyr-2024-02-18/analyzed/20240214-1002_f1_Dele-wt_5do_sh_prj10_sz8x8_2024-02-14-100259-0000DLC_dlcrnetms5_projector-1dotFeb18shuffle1_50000_el.h5',\n",
       " '/Users/julianarhee/DeepLabCut/projector-1dot-jyr-2024-02-18/analyzed/20240211-1509_f4_Dyak-splitP1a-CsChR_2do_gh_prj10_sz4x4_2024-02-11-150946-0000DLC_dlcrnetms5_projector-1dotFeb18shuffle1_50000_el.h5',\n",
       " '/Users/julianarhee/DeepLabCut/projector-1dot-jyr-2024-02-18/analyzed/20240211-1451_f3_Dyak-splitP1a-CsChR_2do_gh_prj10_sz2x2_2024-02-11-145209-0000DLC_dlcrnetms5_projector-1dotFeb18shuffle1_50000_el.h5',\n",
       " '/Users/julianarhee/DeepLabCut/projector-1dot-jyr-2024-02-18/analyzed/20240216-1552_fly7_Dmel_sP1-ChR_2do_sh_4x4_2024-02-16-155224-0000DLC_dlcrnetms5_projector-1dotFeb18shuffle1_50000_el.h5',\n",
       " '/Users/julianarhee/DeepLabCut/projector-1dot-jyr-2024-02-18/analyzed/20240216-1443_fly3_Dmel_sP1-ChR_2do_sh_8x8_2024-02-16-144315-0000DLC_dlcrnetms5_projector-1dotFeb18shuffle1_50000_el.h5',\n",
       " '/Users/julianarhee/DeepLabCut/projector-1dot-jyr-2024-02-18/analyzed/20240214-0954_f1_Dele-wt_5do_sh_prj10_sz2x2_2024-02-14-095429-0000DLC_dlcrnetms5_projector-1dotFeb18shuffle1_50000_el.h5',\n",
       " '/Users/julianarhee/DeepLabCut/projector-1dot-jyr-2024-02-18/analyzed/20240211-1430_f3_Dyak-splitP1a-CsChR_2do_gh_prj10_sz6x6_2024-02-11-142641-0000DLC_dlcrnetms5_projector-1dotFeb18shuffle1_50000_el.h5']"
      ]
     },
     "execution_count": 4,
     "metadata": {},
     "output_type": "execute_result"
    }
   ],
   "source": [
    "analyzed_dir = os.path.join(project_dir, 'analyzed')\n",
    "\n",
    "analyzed_files = glob.glob(os.path.join(analyzed_dir, '*_el.h5'))\n",
    "analyzed_files"
   ]
  },
  {
   "cell_type": "code",
   "execution_count": 5,
   "id": "3a0b3d86",
   "metadata": {},
   "outputs": [
    {
     "data": {
      "text/plain": [
       "<module 'dlc' from '/Users/julianarhee/Repositories/flytracker-analysis/dlc.py'>"
      ]
     },
     "execution_count": 5,
     "metadata": {},
     "output_type": "execute_result"
    }
   ],
   "source": [
    "importlib.reload(dlc)"
   ]
  },
  {
   "cell_type": "code",
   "execution_count": 6,
   "id": "e1516f0d",
   "metadata": {},
   "outputs": [],
   "source": [
    "fps = 60  # Hz\n",
    "max_jump=6\n",
    "# ------------------------------\n",
    "flyid = 'fly'\n",
    "dotid = 'single'\n",
    "# ------------------------------\n"
   ]
  },
  {
   "cell_type": "code",
   "execution_count": 7,
   "id": "6da816ba",
   "metadata": {},
   "outputs": [
    {
     "name": "stdout",
     "output_type": "stream",
     "text": [
      "20240212-1230_fly3_Dmel_sP1-ChR_3do_sh_4x4\n",
      "20240212-1230_fly3_Dmel_sP1-ChR_3do_sh_4x4_2024-02-12-122911-0000DLC_dlcrnetms5_projector-1dotFeb18shuffle1_50000_el.h5\n"
     ]
    }
   ],
   "source": [
    "fpath = analyzed_files[0]\n",
    "data_id = os.path.split(fpath)[-1]\n",
    "sess_id = data_id.split('DLC')[0]\n",
    "sess_id = '_'.join(sess_id.split('_')[0:-1])\n",
    "print(sess_id)\n",
    "\n",
    "print(os.path.split(fpath)[-1])\n",
    "# # load\n",
    "# flydf = dlc.load_trk_df(fpath, flyid='fly', fps=fps, max_jump=max_jump, cop_ix=None)\n",
    "# dotdf = dlc.load_trk_df(fpath, flyid='single', fps=fps, max_jump=max_jump, cop_ix=None)\n",
    "# flydf, dotdf = dlc.get_interfly_params(flydf, dotdf, cop_ix=None)\n",
    "# dotdf, step_dict = dlc.split_speed_epochs(dotdf, return_stepdict=True,\n",
    "#                         win=13, cop_ix=None, speed_var='lin_speed_filt',\n",
    "#                         t_start=20, increment=40, n_levels=10)\n",
    "# flydf = dlc.add_speed_epoch(flydf, step_dict)\n",
    "# dotdf = dotdf[dotdf['epoch'] < 10]\n",
    "# flydf = flydf[flydf['epoch'] < 10]\n",
    "trk = pd.read_hdf(fpath) #os.path.join(pathname, filename))\n",
    "scorer = trk.columns.get_level_values(0)[0]\n",
    "tstamp = np.linspace(0, len(trk) * 1 / fps, len(trk))\n",
    "nframes = len(trk)"
   ]
  },
  {
   "cell_type": "markdown",
   "id": "6bfdd668",
   "metadata": {},
   "source": [
    "# Cowley"
   ]
  },
  {
   "cell_type": "code",
   "execution_count": 8,
   "id": "2a02637b",
   "metadata": {},
   "outputs": [],
   "source": [
    "minerva_base = '/Volumes/Julie/2d-projector-analysis'\n",
    "savedir = os.path.join(minerva_base, 'visual_transformations', projectname) #'analyzed')\n",
    "if not os.path.exists(savedir):\n",
    "    os.makedirs(savedir)"
   ]
  },
  {
   "cell_type": "code",
   "execution_count": 9,
   "id": "499fda62",
   "metadata": {},
   "outputs": [],
   "source": [
    "import os, sys\n",
    "import shutil\n",
    "import pickle\n",
    "import datetime\n",
    "\n",
    "import numpy as np\n",
    "import class_reconstruct\n",
    "\n",
    "import matplotlib\n",
    "matplotlib.use('Agg')\n",
    "import matplotlib.pyplot as plt\n",
    "\n",
    "import zipfile"
   ]
  },
  {
   "cell_type": "code",
   "execution_count": 10,
   "id": "84d89587",
   "metadata": {},
   "outputs": [],
   "source": [
    "S = class_reconstruct.ReconstructStimulusClass()"
   ]
  },
  {
   "cell_type": "code",
   "execution_count": 11,
   "id": "37d5f65e",
   "metadata": {},
   "outputs": [],
   "source": [
    "flypos = trk.xs(flyid, level='individuals', axis=1)\n",
    "dotpos = trk.xs(dotid, level='individuals', axis=1)"
   ]
  },
  {
   "cell_type": "code",
   "execution_count": 12,
   "id": "bfdcc03d",
   "metadata": {},
   "outputs": [],
   "source": [
    "# ifemale=0; imale=1;\n",
    "# ix=0; iy=1;\n",
    "ifly=0\n",
    "ihead=0; ibody=1; itail=2;\n",
    "pcutoff=0.99\n",
    "xy_list = []\n",
    "flybps = ['head', 'thorax', 'abdomentip']\n",
    "dotbps = ['left', 'center', 'right']\n",
    "\n",
    "#processeddata_folder = './'\n",
    "#positions = np.load(processeddata_folder + '{:s}/fly{:d}_tracks.npy'.format(LC_type, ifly))\n",
    "    # fly_tracks need to be (2,2,3,T) for (female/male, x/y, head/body/tail, timepoint)\n",
    "\n",
    "#positions_male = positions[imale,:,:,:]  # (2,3,T)\n",
    "#positions_female = positions[ifemale,:,:,:]  # (2,3,T)\n",
    "positions_male = dlc.dlc_to_multipos_array(flypos[scorer].copy(), bps=flybps, pcutoff=pcutoff)\n",
    "positions_female = dlc.dlc_to_multipos_array(dotpos[scorer].copy(), bps=dotbps, pcutoff=pcutoff)\n",
    "\n",
    "# compute relative position of female from male's head\n",
    "diff_positions = positions_female - positions_male[:,ihead,:][:,np.newaxis,:]\n",
    "\n",
    "num_frames = positions_male.shape[-1]"
   ]
  },
  {
   "cell_type": "code",
   "execution_count": 14,
   "id": "7b20bb8d",
   "metadata": {},
   "outputs": [
    {
     "name": "stdout",
     "output_type": "stream",
     "text": [
      "/Volumes/Julie/2d-projector-analysis/visual_transformations/projector-1dot-jyr-2024-02-18/figs/image_for_zip_20240212-1230_fly3_Dmel_sP1-ChR_3do_sh_4x4_fly0\n"
     ]
    },
    {
     "ename": "KeyboardInterrupt",
     "evalue": "",
     "output_type": "error",
     "traceback": [
      "\u001b[0;31m---------------------------------------------------------------------------\u001b[0m",
      "\u001b[0;31mKeyboardInterrupt\u001b[0m                         Traceback (most recent call last)",
      "Cell \u001b[0;32mIn[14], line 23\u001b[0m\n\u001b[1;32m     20\u001b[0m \u001b[38;5;28;01mif\u001b[39;00m np\u001b[38;5;241m.\u001b[39mmod(iframe,\u001b[38;5;241m200\u001b[39m) \u001b[38;5;241m==\u001b[39m \u001b[38;5;241m0\u001b[39m:\n\u001b[1;32m     21\u001b[0m     \u001b[38;5;28mprint\u001b[39m(imgsave_filepath) \u001b[38;5;66;03m#' {:s}  fly {:d}:  frame  {:d}'.format(sess_id, ifly, iframe))\u001b[39;00m\n\u001b[0;32m---> 23\u001b[0m \u001b[43mS\u001b[49m\u001b[38;5;241;43m.\u001b[39;49m\u001b[43mreconstruct_image_of_female_stripesmodel\u001b[49m\u001b[43m(\u001b[49m\u001b[43mpositions_male\u001b[49m\u001b[43m[\u001b[49m\u001b[43m:\u001b[49m\u001b[43m,\u001b[49m\u001b[43m:\u001b[49m\u001b[43m,\u001b[49m\u001b[43miframe\u001b[49m\u001b[43m]\u001b[49m\u001b[38;5;241;43m.\u001b[39;49m\u001b[43mT\u001b[49m\u001b[43m,\u001b[49m\u001b[43m \u001b[49m\u001b[43mdiff_positions\u001b[49m\u001b[43m[\u001b[49m\u001b[43m:\u001b[49m\u001b[43m,\u001b[49m\u001b[43m:\u001b[49m\u001b[43m,\u001b[49m\u001b[43miframe\u001b[49m\u001b[43m]\u001b[49m\u001b[38;5;241;43m.\u001b[39;49m\u001b[43mT\u001b[49m\u001b[43m,\u001b[49m\u001b[43m \u001b[49m\u001b[43mimgsave_filepath\u001b[49m\u001b[43m)\u001b[49m\n\u001b[1;32m     25\u001b[0m female_widths[iframe], female_orientations[iframe], female_lateral_positions[iframe] \u001b[38;5;241m=\u001b[39m S\u001b[38;5;241m.\u001b[39mget_parameters_of_stripesmodel(positions_male[:,:,iframe]\u001b[38;5;241m.\u001b[39mT, diff_positions[:,:,iframe]\u001b[38;5;241m.\u001b[39mT)\n\u001b[1;32m     27\u001b[0m \u001b[38;5;66;03m# add image to zipfile\u001b[39;00m\n",
      "File \u001b[0;32m~/Repositories/flytracker-analysis/class_reconstruct.py:268\u001b[0m, in \u001b[0;36mReconstructStimulusClass.reconstruct_image_of_female_stripesmodel\u001b[0;34m(self, positions_male, diff_positions_female, save_filepath)\u001b[0m\n\u001b[1;32m    264\u001b[0m fig\u001b[38;5;241m.\u001b[39msavefig(impath, bbox_inches\u001b[38;5;241m=\u001b[39mbbox) \u001b[38;5;66;03m#save_filepath + '.png', bbox_inches=bbox)\u001b[39;00m\n\u001b[1;32m    266\u001b[0m plt\u001b[38;5;241m.\u001b[39mclose(\u001b[38;5;124m'\u001b[39m\u001b[38;5;124mall\u001b[39m\u001b[38;5;124m'\u001b[39m)\n\u001b[0;32m--> 268\u001b[0m \u001b[38;5;28;43mself\u001b[39;49m\u001b[38;5;241;43m.\u001b[39;49m\u001b[43mresize_image\u001b[49m\u001b[43m(\u001b[49m\u001b[43msave_filepath\u001b[49m\u001b[43m)\u001b[49m\n",
      "File \u001b[0;32m~/Repositories/flytracker-analysis/class_reconstruct.py:51\u001b[0m, in \u001b[0;36mReconstructStimulusClass.resize_image\u001b[0;34m(self, imgsave_filename)\u001b[0m\n\u001b[1;32m     48\u001b[0m \t\t\u001b[38;5;28;01massert\u001b[39;00m os\u001b[38;5;241m.\u001b[39mpath\u001b[38;5;241m.\u001b[39misfile(path)\n\u001b[1;32m     49\u001b[0m \t\t\u001b[38;5;66;03m#with open(path, \"r\") as f:\u001b[39;00m\n\u001b[1;32m     50\u001b[0m     \t\u001b[38;5;66;03m#\tpass\u001b[39;00m\n\u001b[0;32m---> 51\u001b[0m \t\t\u001b[43mim\u001b[49m\u001b[38;5;241;43m.\u001b[39;49m\u001b[43msave\u001b[49m\u001b[43m(\u001b[49m\u001b[43mpath\u001b[49m\u001b[43m)\u001b[49m\n",
      "File \u001b[0;32m~/miniforge3/envs/flytracker/lib/python3.8/site-packages/PIL/Image.py:2424\u001b[0m, in \u001b[0;36mImage.save\u001b[0;34m(self, fp, format, **params)\u001b[0m\n\u001b[1;32m   2422\u001b[0m     \u001b[38;5;28;01mraise\u001b[39;00m\n\u001b[1;32m   2423\u001b[0m \u001b[38;5;28;01mif\u001b[39;00m open_fp:\n\u001b[0;32m-> 2424\u001b[0m     \u001b[43mfp\u001b[49m\u001b[38;5;241;43m.\u001b[39;49m\u001b[43mclose\u001b[49m\u001b[43m(\u001b[49m\u001b[43m)\u001b[49m\n",
      "\u001b[0;31mKeyboardInterrupt\u001b[0m: "
     ]
    }
   ],
   "source": [
    "# make stimuli from male perspective\n",
    "save_folder = savedir #os.path.join(savedir, sess_id)\n",
    "tmp_figdir = os.path.join(save_folder, 'figs')\n",
    "if not os.path.exists(tmp_figdir):\n",
    "    os.makedirs(tmp_figdir)\n",
    "\n",
    "zipfilename = os.path.join(save_folder, '{:s}/stimuli_fly{:d}.zip'.format(sess_id, ifly))\n",
    "\n",
    "zip = zipfile.ZipFile(zipfilename, 'w')\n",
    "\n",
    "female_widths = np.zeros((num_frames,))\n",
    "female_orientations = np.zeros((num_frames,))\n",
    "female_lateral_positions = np.zeros((num_frames,))\n",
    "\n",
    "for iframe in range(num_frames-1):  # ignore last frame, b/c no predictants for it\n",
    "\n",
    "    imgsave_filepath = os.path.join(save_folder, \n",
    "                            'figs/image_for_zip_{:s}_fly{:d}_{:d}'.format(sess_id, ifly, iframe))\n",
    "    \n",
    "    if np.mod(iframe,200) == 0:\n",
    "        print(imgsave_filepath) #' {:s}  fly {:d}:  frame  {:d}'.format(sess_id, ifly, iframe))\n",
    "\n",
    "    S.reconstruct_image_of_female_stripesmodel(positions_male[:,:,iframe].T, diff_positions[:,:,iframe].T, imgsave_filepath)\n",
    "\n",
    "    female_widths[iframe], female_orientations[iframe], female_lateral_positions[iframe] = S.get_parameters_of_stripesmodel(positions_male[:,:,iframe].T, diff_positions[:,:,iframe].T)\n",
    "\n",
    "    # add image to zipfile\n",
    "    zip.write(imgsave_filepath + '.png', 'time{:d}.png'.format(iframe))\n",
    "    \n",
    "zip.close()"
   ]
  },
  {
   "cell_type": "code",
   "execution_count": 123,
   "id": "d3bc2108",
   "metadata": {},
   "outputs": [
    {
     "data": {
      "text/plain": [
       "'/Volumes/Julie/2d-projector-analysis/visual_transformations/projector-1dot-jyr-2024-02-18/figs/image_for_zip_20240212-1230_fly3_Dmel_sP1-ChR_3do_sh_4x4_fly0'"
      ]
     },
     "execution_count": 123,
     "metadata": {},
     "output_type": "execute_result"
    }
   ],
   "source": [
    "imgsave_filepath"
   ]
  },
  {
   "cell_type": "code",
   "execution_count": null,
   "id": "f4ecfc74",
   "metadata": {},
   "outputs": [],
   "source": [
    "# also save stimulus params in struct\n",
    "P = {}\n",
    "P['female_widths'] = female_widths[:-1]   # ignore last frame b/c no predictants for it\n",
    "P['female_orientations'] = female_orientations[:-1]\n",
    "P['female_lateral_positions'] = female_lateral_positions[:-1]\n",
    "\n",
    "filename = os.path.join(save_folder, '{:s}/stimulus_params_fly{:d}.pkl'.format(sess_id, ifly))\n",
    "pickle.dump(P, open(filename, 'wb'))\n"
   ]
  }
 ],
 "metadata": {
  "kernelspec": {
   "display_name": "Python 3 (ipykernel)",
   "language": "python",
   "name": "python3"
  },
  "language_info": {
   "codemirror_mode": {
    "name": "ipython",
    "version": 3
   },
   "file_extension": ".py",
   "mimetype": "text/x-python",
   "name": "python",
   "nbconvert_exporter": "python",
   "pygments_lexer": "ipython3",
   "version": "3.8.18"
  }
 },
 "nbformat": 4,
 "nbformat_minor": 5
}
