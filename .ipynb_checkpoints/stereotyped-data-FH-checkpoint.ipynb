{
 "cells": [
  {
   "cell_type": "code",
   "execution_count": 2,
   "id": "a7f1040e",
   "metadata": {},
   "outputs": [],
   "source": [
    "import os\n",
    "import glob\n",
    "\n",
    "import pandas as pd\n",
    "import numpy as np\n",
    "import seaborn as sns\n",
    "import matplotlib as mpl\n",
    "\n",
    "import pylab as pl\n",
    "\n",
    "import utils as util\n",
    "import plotting as putil\n",
    "import importlib\n",
    "\n",
    "import scipy.stats as spstats"
   ]
  },
  {
   "cell_type": "code",
   "execution_count": 3,
   "id": "b0835083",
   "metadata": {},
   "outputs": [],
   "source": [
    "putil.set_sns_style(style='dark', min_fontsize=12)"
   ]
  },
  {
   "cell_type": "code",
   "execution_count": 46,
   "id": "ce326f4f",
   "metadata": {},
   "outputs": [],
   "source": [
    "def center_trajectories(df):\n",
    "    # Step 2: Group the data by \"exp_id\"\n",
    "    grouped = df.groupby('exp_id')\n",
    "    # Step 3: Calculate the mean center for each trajectory\n",
    "    centered_trajectories = []\n",
    "    for exp_id, group in grouped:\n",
    "        mean_pos_x = group['pos_x'].mean()\n",
    "        mean_pos_y = group['pos_y'].mean()\n",
    "        # Step 4: Subtract the mean values to center the coordinates\n",
    "        centered_pos_x = group['pos_x'] - mean_pos_x#_global\n",
    "        centered_pos_y = group['pos_y'] - mean_pos_y#_global\n",
    "        # Step 5: Update the dataframe with centered coordinates\n",
    "        group['centered_pos_x'] = centered_pos_x\n",
    "        group['centered_pos_y'] = centered_pos_y\n",
    "        centered_trajectories.append(group)\n",
    "    # Combine the centered trajectories back into one dataframe\n",
    "    centered_df = pd.concat(centered_trajectories)\n",
    "    return centered_df"
   ]
  },
  {
   "cell_type": "code",
   "execution_count": 4,
   "id": "3244e63a",
   "metadata": {},
   "outputs": [
    {
     "data": {
      "text/plain": [
       "(1008000, 112)"
      ]
     },
     "execution_count": 4,
     "metadata": {},
     "output_type": "execute_result"
    }
   ],
   "source": [
    "srcdir = '/Users/julianarhee/Documents/rutalab/projects/courtship/2d-projector'\n",
    "# fname = '20220826_df_FH'\n",
    "fname = '20220918_df_excluded_FH'\n",
    "fpath = os.path.join(srcdir, '{}.pkl'.format(fname))\n",
    "df0=pd.read_pickle(fpath)\n",
    "df0.shape"
   ]
  },
  {
   "cell_type": "code",
   "execution_count": 5,
   "id": "958f7d10",
   "metadata": {},
   "outputs": [
    {
     "name": "stdout",
     "output_type": "stream",
     "text": [
      "/Users/julianarhee/Documents/rutalab/projects/courtship/2d-projector/20220918_df_excluded_FH\n"
     ]
    }
   ],
   "source": [
    "figdir = os.path.join(srcdir, fname)\n",
    "if not os.path.exists(figdir):\n",
    "    os.makedirs(figdir)\n",
    "print(figdir)"
   ]
  },
  {
   "cell_type": "code",
   "execution_count": 6,
   "id": "10352c53",
   "metadata": {},
   "outputs": [
    {
     "data": {
      "text/plain": [
       "array(['887', '850', '911', 'splitP1', '821'], dtype=object)"
      ]
     },
     "execution_count": 6,
     "metadata": {},
     "output_type": "execute_result"
    }
   ],
   "source": [
    "df0['gtype'].unique()"
   ]
  },
  {
   "cell_type": "code",
   "execution_count": 45,
   "id": "1b241d83",
   "metadata": {},
   "outputs": [],
   "source": [
    "df0['wing_ang_maxmindiff'] = df0['max_wing_ang'] - df0['min_wing_ang']\n",
    "df0['wing_ang_lrdiff'] = (df0['wing_r_ang'] - df0['wing_l_ang']) % 2*np.pi\n",
    "for gt, d_ in df0.groupby('gtype'):\n",
    "    id_lut = dict((v, k) for k, v in enumerate(d_['exp_id'].unique()))\n",
    "    df0.loc[df0['gtype']==gt, 'flynum'] = [id_lut[i] for i in d_['exp_id']]\n",
    "\n",
    "df0['exp_ix'] = ['{}_{}'.format(i, v) for i, v in \n",
    "                 zip(df0['gtype'].values, df0['flynum'].values)]\n",
    "# df0['frame_ix'] = df0.groupby(['exp_ix', 'epoch']).cumcount()\n",
    "#df1 = df0.copy().reset_index(drop=True)\n",
    "# df0['flynum'] = [s.split('_')[-1] for s in df0['exp_id']]"
   ]
  },
  {
   "cell_type": "code",
   "execution_count": 18,
   "id": "dc981061",
   "metadata": {},
   "outputs": [],
   "source": [
    "# n_by_exp = dict(df0.groupby('gtype')['exp_id'].unique())\n",
    "# n_by_exp['splitP1']"
   ]
  },
  {
   "cell_type": "code",
   "execution_count": 27,
   "id": "9e6fc296",
   "metadata": {
    "scrolled": true
   },
   "outputs": [],
   "source": [
    "# means = df0.groupby(['exp', 'gtype', 'exp_id', 'flynum'])\\\n",
    "#                 [['vel', 'interdot_dist', 'ang_vel', 'max_wing_ang',\n",
    "#                  'wing_ang_maxmindiff', 'wing_ang_lrdiff']].mean().reset_index()\n",
    "# # \"means\""
   ]
  },
  {
   "cell_type": "code",
   "execution_count": null,
   "id": "00e5463f",
   "metadata": {},
   "outputs": [],
   "source": []
  },
  {
   "cell_type": "code",
   "execution_count": 31,
   "id": "25efa4ef",
   "metadata": {
    "scrolled": true
   },
   "outputs": [],
   "source": [
    "# yvar = 'wing_ang_maxmindiff'\n",
    "yvar = 'interdot_dist' #'interdot_dist'\n",
    "# df1 = df0.copy().reset_index().drop_duplicates()\n",
    "\n",
    "# means_pivot = means.pivot_table(index=['gtype', 'flynum'], \n",
    "#                         columns='epoch', \n",
    "#                         values=yvar).reset_index()\n",
    "# means_pivot.columns.name = None\n",
    "\n",
    "means = df0.groupby(['exp', 'gtype', 'exp_ix', 'flynum'])\\\n",
    "                [['vel', 'interdot_dist', 'ang_vel', 'max_wing_ang',\n",
    "                 'wing_ang_maxmindiff', 'wing_ang_lrdiff']].mean().reset_index()\n",
    "# \"means\""
   ]
  },
  {
   "cell_type": "code",
   "execution_count": null,
   "id": "3c78e775",
   "metadata": {},
   "outputs": [],
   "source": []
  },
  {
   "cell_type": "code",
   "execution_count": 43,
   "id": "69e24581",
   "metadata": {},
   "outputs": [],
   "source": [
    "yvars = ['vel', 'interdot_dist', 'ang_vel', 'max_wing_ang',\n",
    "                 'wing_ang_maxmindiff', 'wing_ang_lrdiff']\n",
    "d_list=[]\n",
    "for exp, d_ in means.groupby('gtype'):\n",
    "    cv_ = spstats.variation(d_[yvars], axis=0)\n",
    "\n",
    "    m_ = pd.DataFrame(data=spstats.variation(d_[yvar].dropna(), axis=0), \n",
    "             columns=['value'], index=[0])\n",
    "    m_['gtype'] = exp\n",
    "#     m_['cv'] = 'cv_led' if i==0 else 'cv_id'\n",
    "    m_['variable'] = yvar #range(len(m_))\n",
    "    # if CV is for each LED level, range is 0 to 5\n",
    "    # else CV is for each fly (across LED levels), so range is 0 to N flies\n",
    "    d_list.append(m_)\n",
    "cv = pd.concat(d_list, axis=0)"
   ]
  },
  {
   "cell_type": "code",
   "execution_count": 44,
   "id": "7411b278",
   "metadata": {},
   "outputs": [
    {
     "data": {
      "text/html": [
       "<div>\n",
       "<style scoped>\n",
       "    .dataframe tbody tr th:only-of-type {\n",
       "        vertical-align: middle;\n",
       "    }\n",
       "\n",
       "    .dataframe tbody tr th {\n",
       "        vertical-align: top;\n",
       "    }\n",
       "\n",
       "    .dataframe thead th {\n",
       "        text-align: right;\n",
       "    }\n",
       "</style>\n",
       "<table border=\"1\" class=\"dataframe\">\n",
       "  <thead>\n",
       "    <tr style=\"text-align: right;\">\n",
       "      <th></th>\n",
       "      <th>value</th>\n",
       "      <th>gtype</th>\n",
       "      <th>variable</th>\n",
       "    </tr>\n",
       "  </thead>\n",
       "  <tbody>\n",
       "    <tr>\n",
       "      <th>0</th>\n",
       "      <td>0.043290</td>\n",
       "      <td>821</td>\n",
       "      <td>interdot_dist</td>\n",
       "    </tr>\n",
       "    <tr>\n",
       "      <th>0</th>\n",
       "      <td>0.026363</td>\n",
       "      <td>850</td>\n",
       "      <td>interdot_dist</td>\n",
       "    </tr>\n",
       "    <tr>\n",
       "      <th>0</th>\n",
       "      <td>0.194541</td>\n",
       "      <td>887</td>\n",
       "      <td>interdot_dist</td>\n",
       "    </tr>\n",
       "    <tr>\n",
       "      <th>0</th>\n",
       "      <td>0.089863</td>\n",
       "      <td>911</td>\n",
       "      <td>interdot_dist</td>\n",
       "    </tr>\n",
       "    <tr>\n",
       "      <th>0</th>\n",
       "      <td>0.127275</td>\n",
       "      <td>splitP1</td>\n",
       "      <td>interdot_dist</td>\n",
       "    </tr>\n",
       "  </tbody>\n",
       "</table>\n",
       "</div>"
      ],
      "text/plain": [
       "      value    gtype       variable\n",
       "0  0.043290      821  interdot_dist\n",
       "0  0.026363      850  interdot_dist\n",
       "0  0.194541      887  interdot_dist\n",
       "0  0.089863      911  interdot_dist\n",
       "0  0.127275  splitP1  interdot_dist"
      ]
     },
     "execution_count": 44,
     "metadata": {},
     "output_type": "execute_result"
    }
   ],
   "source": [
    "cv #.variation(d_[yvar].dropna())"
   ]
  },
  {
   "cell_type": "code",
   "execution_count": 36,
   "id": "63b3ce9d",
   "metadata": {},
   "outputs": [
    {
     "data": {
      "text/html": [
       "<div>\n",
       "<style scoped>\n",
       "    .dataframe tbody tr th:only-of-type {\n",
       "        vertical-align: middle;\n",
       "    }\n",
       "\n",
       "    .dataframe tbody tr th {\n",
       "        vertical-align: top;\n",
       "    }\n",
       "\n",
       "    .dataframe thead th {\n",
       "        text-align: right;\n",
       "    }\n",
       "</style>\n",
       "<table border=\"1\" class=\"dataframe\">\n",
       "  <thead>\n",
       "    <tr style=\"text-align: right;\">\n",
       "      <th></th>\n",
       "      <th>value</th>\n",
       "    </tr>\n",
       "  </thead>\n",
       "  <tbody>\n",
       "    <tr>\n",
       "      <th>0</th>\n",
       "      <td>0.04329</td>\n",
       "    </tr>\n",
       "    <tr>\n",
       "      <th>1</th>\n",
       "      <td>0.04329</td>\n",
       "    </tr>\n",
       "    <tr>\n",
       "      <th>2</th>\n",
       "      <td>0.04329</td>\n",
       "    </tr>\n",
       "    <tr>\n",
       "      <th>3</th>\n",
       "      <td>0.04329</td>\n",
       "    </tr>\n",
       "  </tbody>\n",
       "</table>\n",
       "</div>"
      ],
      "text/plain": [
       "     value\n",
       "0  0.04329\n",
       "1  0.04329\n",
       "2  0.04329\n",
       "3  0.04329"
      ]
     },
     "execution_count": 36,
     "metadata": {},
     "output_type": "execute_result"
    }
   ],
   "source": [
    "pd.DataFrame(data=spstats.variation(d_[yvar].dropna(), axis=0), \n",
    "             columns=['value'], index=range(d_.shape[0]))"
   ]
  },
  {
   "cell_type": "code",
   "execution_count": null,
   "id": "d010c770",
   "metadata": {},
   "outputs": [],
   "source": [
    "df = df0[df0['gtype']=='splitP1']\n"
   ]
  },
  {
   "cell_type": "code",
   "execution_count": null,
   "id": "0008982b",
   "metadata": {},
   "outputs": [],
   "source": []
  }
 ],
 "metadata": {
  "kernelspec": {
   "display_name": "Python 3 (ipykernel)",
   "language": "python",
   "name": "python3"
  },
  "language_info": {
   "codemirror_mode": {
    "name": "ipython",
    "version": 3
   },
   "file_extension": ".py",
   "mimetype": "text/x-python",
   "name": "python",
   "nbconvert_exporter": "python",
   "pygments_lexer": "ipython3",
   "version": "3.8.18"
  }
 },
 "nbformat": 4,
 "nbformat_minor": 5
}
