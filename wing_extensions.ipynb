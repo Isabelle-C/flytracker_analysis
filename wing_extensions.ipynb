{
 "cells": [
  {
   "cell_type": "code",
   "execution_count": 28,
   "id": "b8d612b7",
   "metadata": {},
   "outputs": [],
   "source": [
    "import scipy.io\n",
    "import os\n",
    "import re\n",
    "import glob\n",
    "import importlib\n",
    "\n",
    "import pandas as pd\n",
    "import pylab as pl\n",
    "import numpy as np\n",
    "import seaborn as sns\n",
    "\n",
    "import utils as util\n",
    "import plotting as plotutils"
   ]
  },
  {
   "cell_type": "code",
   "execution_count": 15,
   "id": "477f3176",
   "metadata": {},
   "outputs": [],
   "source": [
    "rootdir = '/mnt/sda/Videos'\n",
    "assay_prefix='single_20mm'\n",
    "#sessionid = '20220128-1555'\n",
    "sessionid = '20220203-0951'"
   ]
  },
  {
   "cell_type": "code",
   "execution_count": 19,
   "id": "d25f41c3",
   "metadata": {},
   "outputs": [
    {
     "data": {
      "text/plain": [
       "<module 'utils' from '/home/julianarhee/Repositories/flytracker/utils.py'>"
      ]
     },
     "execution_count": 19,
     "metadata": {},
     "output_type": "execute_result"
    }
   ],
   "source": [
    "importlib.reload(util)"
   ]
  },
  {
   "cell_type": "code",
   "execution_count": 17,
   "id": "7430e691",
   "metadata": {},
   "outputs": [
    {
     "name": "stdout",
     "output_type": "stream",
     "text": [
      "Processing acq: 20220203-0951_sant_3do_sh\n"
     ]
    }
   ],
   "source": [
    "acq_dir = util.get_acq_dir(sessionid, assay_prefix=assay_prefix)\n",
    "acquisition = os.path.split(acq_dir)[-1]\n",
    "print('Processing acq: %s' % acquisition)"
   ]
  },
  {
   "cell_type": "markdown",
   "id": "1a67359a",
   "metadata": {},
   "source": [
    "# Load FlyTracker output"
   ]
  },
  {
   "cell_type": "code",
   "execution_count": 20,
   "id": "cecdda2a",
   "metadata": {},
   "outputs": [
    {
     "data": {
      "text/plain": [
       "{'n_chambers': 1,\n",
       " 'n_rows': 1,\n",
       " 'n_cols': 1,\n",
       " 'FPS': 60,\n",
       " 'PPM': 60.88519269776877,\n",
       " 'centroids': array([768, 768], dtype=uint16),\n",
       " 'w': 1496,\n",
       " 'h': 1496,\n",
       " 'rois': array([ 130,  123, 1256, 1253], dtype=uint16),\n",
       " 'n_flies': 2,\n",
       " 'cop_ind': 7085}"
      ]
     },
     "execution_count": 20,
     "metadata": {},
     "output_type": "execute_result"
    }
   ],
   "source": [
    "#%% Get corresponding calibration file\n",
    "calib = util.load_calibration(acq_dir)\n",
    "\n",
    "#% Load feature mat\n",
    "featdf = util.load_feat(acq_dir)\n",
    "trackdf = util.load_tracks(acq_dir)\n",
    "\n",
    "trackdf = util.add_frame_nums(trackdf, fps=calib['FPS'])\n",
    "featdf = util.add_frame_nums(featdf, fps=calib['FPS'])\n",
    "\n",
    "calib"
   ]
  },
  {
   "cell_type": "markdown",
   "id": "f445af3b",
   "metadata": {},
   "source": [
    "# Set output dir"
   ]
  },
  {
   "cell_type": "code",
   "execution_count": 13,
   "id": "62d04795",
   "metadata": {},
   "outputs": [
    {
     "name": "stdout",
     "output_type": "stream",
     "text": [
      "Saving output to: /home/julianarhee/Documents/projects/flytracker-analysis/examples\n"
     ]
    }
   ],
   "source": [
    "project_dir = '/home/julianarhee/Documents/projects'\n",
    "dst_dir = os.path.join(project_dir, 'flytracker-analysis', 'examples')\n",
    "if not os.path.exists(dst_dir):\n",
    "    os.makedirs(dst_dir)\n",
    "print(\"Saving output to: %s\" % dst_dir )"
   ]
  },
  {
   "cell_type": "markdown",
   "id": "6adba59a",
   "metadata": {},
   "source": [
    "# 1 fly"
   ]
  },
  {
   "cell_type": "code",
   "execution_count": 24,
   "id": "56c976c5",
   "metadata": {},
   "outputs": [],
   "source": [
    "ppm = calib['PPM']\n",
    "fps = calib['FPS']\n",
    "cop_ind = calib['cop_ind']\n",
    "male_id=0\n",
    "female_id=1\n",
    "\n",
    "# interaction params:\n",
    "interaction_dist_mm = 5\n",
    "max_dist_to_other = interaction_dist_mm #* ppm\n",
    "max_facing_angle=80\n",
    "# -----------------------------------------"
   ]
  },
  {
   "cell_type": "code",
   "execution_count": 25,
   "id": "0fa02c8b",
   "metadata": {},
   "outputs": [],
   "source": [
    "fly_id = 0\n",
    "feat = featdf[featdf['id']==fly_id].copy()\n",
    "trk = trackdf[trackdf['id']==fly_id].copy()"
   ]
  },
  {
   "cell_type": "code",
   "execution_count": 31,
   "id": "76248155",
   "metadata": {},
   "outputs": [
    {
     "name": "stdout",
     "output_type": "stream",
     "text": [
      "Found 33 bouts, with min. IBI=5.00 sec\n"
     ]
    }
   ],
   "source": [
    "feat = util.threshold_courtship_bouts(feat, max_dist_to_other=max_dist_to_other, max_facing_angle=max_facing_angle)\n",
    "feat.columns\n",
    "\n",
    "ibi_min_sec=5\n",
    "feat, bout_dict = util.get_true_bouts(feat, calib, ibi_min_sec=ibi_min_sec)\n",
    "print(\"Found %i bouts, with min. IBI=%.2f sec\" % (len(bout_dict), ibi_min_sec))\n",
    "\n",
    "bouts = [b for i, b in bout_dict.items()]"
   ]
  },
  {
   "cell_type": "code",
   "execution_count": 32,
   "id": "69de51ee",
   "metadata": {},
   "outputs": [],
   "source": [
    "cdict = {'wing_r': 'mediumpurple',\n",
    "        'wing_l': 'orchid'}"
   ]
  },
  {
   "cell_type": "code",
   "execution_count": 46,
   "id": "a19d110f",
   "metadata": {},
   "outputs": [
    {
     "data": {
      "text/plain": [
       "courtship               True\n",
       "facing_angle_deg    1.011658\n",
       "dist_to_other       2.260817\n",
       "Name: 1259, dtype: object"
      ]
     },
     "execution_count": 46,
     "metadata": {},
     "output_type": "execute_result"
    }
   ],
   "source": [
    "feat.loc[1259][['courtship', 'facing_angle_deg', 'dist_to_other']]"
   ]
  },
  {
   "cell_type": "code",
   "execution_count": 107,
   "id": "56c0c373",
   "metadata": {},
   "outputs": [],
   "source": [
    "sorted_by_len = sorted(bouts, key=len)\n",
    "\n",
    "start_frame=6000\n",
    "end_frame=6500"
   ]
  },
  {
   "cell_type": "code",
   "execution_count": 108,
   "id": "a0bf022d",
   "metadata": {},
   "outputs": [
    {
     "name": "stdout",
     "output_type": "stream",
     "text": [
      "Current bout: 0.00min\n"
     ]
    },
    {
     "ename": "KeyError",
     "evalue": "'wing_r'",
     "output_type": "error",
     "traceback": [
      "\u001b[0;31m---------------------------------------------------------------------------\u001b[0m",
      "\u001b[0;31mKeyError\u001b[0m                                  Traceback (most recent call last)",
      "\u001b[0;32m<ipython-input-108-4439d977b62d>\u001b[0m in \u001b[0;36m<module>\u001b[0;34m\u001b[0m\n\u001b[1;32m     14\u001b[0m     \u001b[0;31m# plot\u001b[0m\u001b[0;34m\u001b[0m\u001b[0;34m\u001b[0m\u001b[0;34m\u001b[0m\u001b[0m\n\u001b[1;32m     15\u001b[0m     \u001b[0max\u001b[0m \u001b[0;34m=\u001b[0m \u001b[0maxn\u001b[0m\u001b[0;34m.\u001b[0m\u001b[0mflatten\u001b[0m\u001b[0;34m(\u001b[0m\u001b[0;34m)\u001b[0m\u001b[0;34m[\u001b[0m\u001b[0mai\u001b[0m\u001b[0;34m]\u001b[0m\u001b[0;34m\u001b[0m\u001b[0;34m\u001b[0m\u001b[0m\n\u001b[0;32m---> 16\u001b[0;31m     \u001b[0max\u001b[0m\u001b[0;34m.\u001b[0m\u001b[0mplot\u001b[0m\u001b[0;34m(\u001b[0m\u001b[0mnp\u001b[0m\u001b[0;34m.\u001b[0m\u001b[0mrad2deg\u001b[0m\u001b[0;34m(\u001b[0m\u001b[0mdf_\u001b[0m\u001b[0;34m[\u001b[0m\u001b[0;34m'wing_r_ang'\u001b[0m\u001b[0;34m]\u001b[0m\u001b[0;34m)\u001b[0m\u001b[0;34m,\u001b[0m \u001b[0mcolor\u001b[0m\u001b[0;34m=\u001b[0m\u001b[0mcdict\u001b[0m\u001b[0;34m[\u001b[0m\u001b[0;34m'wing_r'\u001b[0m\u001b[0;34m]\u001b[0m\u001b[0;34m,\u001b[0m \u001b[0mlabel\u001b[0m\u001b[0;34m=\u001b[0m\u001b[0;34m'wing_r'\u001b[0m\u001b[0;34m)\u001b[0m\u001b[0;34m\u001b[0m\u001b[0;34m\u001b[0m\u001b[0m\n\u001b[0m\u001b[1;32m     17\u001b[0m     \u001b[0max\u001b[0m\u001b[0;34m.\u001b[0m\u001b[0mplot\u001b[0m\u001b[0;34m(\u001b[0m\u001b[0mnp\u001b[0m\u001b[0;34m.\u001b[0m\u001b[0mrad2deg\u001b[0m\u001b[0;34m(\u001b[0m\u001b[0mdf_\u001b[0m\u001b[0;34m[\u001b[0m\u001b[0;34m'wing_l_ang'\u001b[0m\u001b[0;34m]\u001b[0m\u001b[0;34m)\u001b[0m\u001b[0;34m,\u001b[0m \u001b[0mcolor\u001b[0m\u001b[0;34m=\u001b[0m\u001b[0mcdict\u001b[0m\u001b[0;34m[\u001b[0m\u001b[0;34m'wing_l'\u001b[0m\u001b[0;34m]\u001b[0m\u001b[0;34m,\u001b[0m \u001b[0mlabel\u001b[0m\u001b[0;34m=\u001b[0m\u001b[0;34m'wing_l'\u001b[0m\u001b[0;34m)\u001b[0m\u001b[0;34m\u001b[0m\u001b[0;34m\u001b[0m\u001b[0m\n\u001b[1;32m     18\u001b[0m     \u001b[0max\u001b[0m\u001b[0;34m.\u001b[0m\u001b[0mset_ylim\u001b[0m\u001b[0;34m(\u001b[0m\u001b[0;34m[\u001b[0m\u001b[0;34m-\u001b[0m\u001b[0;36m100\u001b[0m\u001b[0;34m,\u001b[0m \u001b[0;36m100\u001b[0m\u001b[0;34m]\u001b[0m\u001b[0;34m)\u001b[0m\u001b[0;34m\u001b[0m\u001b[0;34m\u001b[0m\u001b[0m\n",
      "\u001b[0;31mKeyError\u001b[0m: 'wing_r'"
     ]
    },
    {
     "data": {
      "image/png": "[encoded data removed]",
      "text/plain": [
       "<Figure size 800x800 with 10 Axes>"
      ]
     },
     "metadata": {
      "needs_background": "light"
     },
     "output_type": "display_data"
    }
   ],
   "source": [
    "\n",
    "plotutils.set_plot_params(light=False) #lw_axes=1, axis_labelsize=12, tick_labelsize=10, color=[0.7]*3, dpi=300)\n",
    "\n",
    "fig, axn = pl.subplots(5, 2, figsize=(8,8), sharey=True)\n",
    "\n",
    "sorted_bouts = sorted(bouts, key=lambda x:x[0])\n",
    "\n",
    "# for ai, curr_bout in enumerate(sorted_by_len[::-1]):\n",
    "for ai, curr_bout in enumerate(sorted_bouts):\n",
    "    bout_dur_sec = (curr_bout[-1]-curr_bout[0])/fps\n",
    "    print(\"Current bout: %.2fmin\" % (bout_dur_sec/60.) )\n",
    "    start_frame, end_frame = curr_bout[0], curr_bout[-1]\n",
    "    df_ = trk.loc[start_frame:end_frame]\n",
    "\n",
    "    # plot\n",
    "    ax = axn.flatten()[ai]\n",
    "    ax.plot(np.rad2deg(df_['wing_r_ang']), color=cdict['wing_r'], label='wing_r')\n",
    "    ax.plot(np.rad2deg(df_['wing_l_ang']), color=cdict['wing_l'], label='wing_l')\n",
    "    ax.set_ylim([-100, 100])\n",
    "    #ax.legend(bbox_to_anchor=(1,1), loc='upper right')\n"
   ]
  },
  {
   "cell_type": "code",
   "execution_count": 50,
   "id": "2771fc15",
   "metadata": {},
   "outputs": [
    {
     "data": {
      "text/plain": [
       "60"
      ]
     },
     "execution_count": 50,
     "metadata": {},
     "output_type": "execute_result"
    }
   ],
   "source": [
    "calib['FPS']\n"
   ]
  },
  {
   "cell_type": "code",
   "execution_count": 135,
   "id": "13f6c0c4",
   "metadata": {},
   "outputs": [],
   "source": [
    "cdict = {'wing_r': 'mediumpurple',\n",
    "        'wing_l': 'orchid'}\n",
    "\n",
    "cdict = {'M': {'wing_l': 'mediumpurple',\n",
    "               'wing_r': 'orchid'},\n",
    "         'F': {'wing_r': 'aquamarine',\n",
    "               'wing_l': 'cyan'}}"
   ]
  },
  {
   "cell_type": "code",
   "execution_count": 411,
   "id": "e0b0374e",
   "metadata": {},
   "outputs": [],
   "source": [
    "start_frame = calib['cop_ind'] - calib['FPS']*60*.5\n",
    "end_frame = calib['cop_ind']\n",
    "\n",
    "# start_frame=6050\n",
    "# end_frame=6100\n",
    "\n",
    "# start_frame=6400\n",
    "# end_frame=6490\n",
    "\n",
    "start_frame=5600\n",
    "end_frame=5700"
   ]
  },
  {
   "cell_type": "code",
   "execution_count": 412,
   "id": "4be2b7a5",
   "metadata": {},
   "outputs": [
    {
     "data": {
      "text/plain": [
       "[<matplotlib.lines.Line2D at 0x7f89d04e0850>]"
      ]
     },
     "execution_count": 412,
     "metadata": {},
     "output_type": "execute_result"
    },
    {
     "data": {
      "image/png": "[encoded data removed]",
      "text/plain": [
       "<Figure size 1500x600 with 1 Axes>"
      ]
     },
     "metadata": {
      "needs_background": "light"
     },
     "output_type": "display_data"
    }
   ],
   "source": [
    "trkM = trackdf[trackdf['id']==0].copy()\n",
    "\n",
    "trkF = trackdf[trackdf['id']==1].copy()\n",
    "trkF.index = trkF['frame']\n",
    "fig, ax= pl.subplots(figsize=(15, 6))\n",
    "ax.patch.set_alpha(0)\n",
    "\n",
    "offset=0\n",
    "# ax.plot(np.rad2deg(trkF.loc[start_frame:end_frame]['wing_r_ang'])+offset, color=cdict['F']['wing_r'], label='wing_r')\n",
    "# ax.plot(np.rad2deg(trkF.loc[start_frame:end_frame]['wing_l_ang'])+offset, color=cdict['F']['wing_l'], label='wing_l')\n",
    "trkM['wing_r_ang'] = trkM['wing_r_ang'].interpolate()\n",
    "trkM['wing_l_ang'] = trkM['wing_l_ang'].interpolate()\n",
    "\n",
    "ax.plot(np.rad2deg(trkM.loc[start_frame:end_frame]['wing_r_ang'])+offset*2, color=cdict['M']['wing_r'], label='wing_r')\n",
    "ax.plot(np.rad2deg(trkM.loc[start_frame:end_frame]['wing_l_ang'])+offset*2, color=cdict['M']['wing_l'], label='wing_l')\n",
    "ax.plot(6453, 0, 'r*')\n",
    "#ax.set_ylim([-100, 100])"
   ]
  },
  {
   "cell_type": "code",
   "execution_count": 413,
   "id": "8cc305e2",
   "metadata": {},
   "outputs": [],
   "source": [
    "def consecutive(data, stepsize=1):\n",
    "    #return np.split(data, np.where((np.diff(data)) >= stepsize)[0]+1)\n",
    "    return np.split(data, np.where(np.diff(data) >= stepsize)[0]+1)\n"
   ]
  },
  {
   "cell_type": "code",
   "execution_count": 414,
   "id": "67ad5812",
   "metadata": {
    "scrolled": true
   },
   "outputs": [],
   "source": [
    "\n",
    "def fix_jumps(w_, stepsize=60, sign=1):\n",
    "\n",
    "    grouped = consecutive(w_, stepsize=-stepsize)\n",
    "    assert max(np.unique([len([gg for gg in g if not np.isnan(gg)]) for g in grouped]))<=2\n",
    "\n",
    "    ww_=w_.copy()\n",
    "    while max(np.diff([wg[0] for wg in grouped]))>(stepsize):\n",
    "        ix=0\n",
    "        new_g = []\n",
    "        for i, g in enumerate(grouped):\n",
    "            if len(g)==1:\n",
    "                new_g.extend(g)\n",
    "            else:\n",
    "                if len(g)==2:\n",
    "                    jump_v, next_v = g\n",
    "                else:\n",
    "                    jump_v = g[0]\n",
    "                # Interpolate between last good val and next one (skip over the jump)\n",
    "                ww_[ix] = np.nan\n",
    "            ix+=len(g)\n",
    "        new_ = pd.Series(ww_).interpolate()\n",
    "        grouped = consecutive(new_.values, stepsize=-stepsize)\n",
    "    return ww_"
   ]
  },
  {
   "cell_type": "code",
   "execution_count": 482,
   "id": "43dd41d3",
   "metadata": {},
   "outputs": [],
   "source": [
    "w_ = np.rad2deg(trkM.loc[start_frame:end_frame]['wing_r_ang'].copy().values)\n",
    "stepsize=14\n",
    "\n",
    "#funk_ixs = [i+1 for i in np.where(np.diff(w_)>stepsize)[0]]\n",
    "#w_[funk_ixs] = np.nan\n",
    "#w_ = pd.Series(w_).interpolate().values\n",
    "\n",
    "grouped = consecutive(w_, stepsize=-stepsize)\n",
    "assert max(np.unique([len([gg for gg in g if not np.isnan(gg)]) for g in grouped]))<=2\n",
    "ww_ = w_.copy()\n",
    "#while max(np.diff([wg[0] for wg in grouped]))>stepsize:\n",
    "new_g = ww_.copy()\n",
    "ix = 0\n",
    "for i, g in enumerate(grouped):\n",
    "    if len(g)>1:\n",
    "        # Interpolate between last good val and next one (skip over the jump)\n",
    "        #g[0] = np.nan\n",
    "        new_g[ix] = np.nan #.extend(g)\n",
    "        #new_g[ix] = np.nan\n",
    "    ix+=len(g)\n",
    "ww_ = pd.Series(new_g).interpolate().values\n",
    "grouped = consecutive(ww_, stepsize=-stepsize)"
   ]
  },
  {
   "cell_type": "code",
   "execution_count": 484,
   "id": "9f759ad6",
   "metadata": {},
   "outputs": [
    {
     "data": {
      "text/plain": [
       "[array([5.51449916, 6.03056597, 3.55892573, 5.1137643 , 4.35510296,\n",
       "        3.805437  , 4.12108907, 4.23110051, 3.74932875, 5.90846787,\n",
       "        3.23544442, 4.21451968, 4.0066494 , 4.54772777, 4.87051959,\n",
       "        4.74320293, 6.26046032, 6.13075438, 4.48560263, 6.66483722,\n",
       "        5.58521819, 7.81656071, 6.42783707, 6.03344634, 5.72773761,\n",
       "        5.65777854, 5.62431209, 0.35512472, 1.00885682, 0.48275054,\n",
       "        1.39988697, 0.94633082]),\n",
       " array([17.73318335, 16.9249078 , 16.80033762, 17.38017485, 17.2346921 ,\n",
       "        17.17757376, 17.5563571 , 17.43302552, 17.17201626, 17.32511832,\n",
       "        17.42832971, 16.91941066, 17.2585787 , 17.40679185, 17.05504081,\n",
       "        17.2732521 , 17.26270015, 16.93367137, 17.17961077, 17.11677003,\n",
       "        17.17747627, 16.55112819, 16.83694491, 17.3653747 , 17.01914507,\n",
       "        16.79242478, 17.08395594, 17.10104369, 17.16800214, 17.17200482,\n",
       "        16.88492306, 17.18328967, 17.45821444, 16.66939779, 17.48084955,\n",
       "        16.9193365 ]),\n",
       " array([101.70574648,  16.66113085,  17.0550333 ]),\n",
       " array([102.41226574,  16.80259616,  16.64027021]),\n",
       " array([99.7361616 , 16.84065076, 16.36096417]),\n",
       " array([99.64655356, 16.71298419, 16.61368133, 16.70572636, 16.54351873]),\n",
       " array([ 99.42069409, 100.31596601,  16.82890995]),\n",
       " array([ 95.77851713,  95.78264974,  97.49558512,  99.07813397,\n",
       "        102.07257932,  98.86558565,  18.22173549]),\n",
       " array([100.21776383,  17.49997483,  17.73937639,  18.39243136,\n",
       "         19.02639225,  19.38139504,  19.77753651,  20.57291937,\n",
       "         21.88678312])]"
      ]
     },
     "execution_count": 484,
     "metadata": {},
     "output_type": "execute_result"
    }
   ],
   "source": [
    "w_ = np.rad2deg(trkM.loc[start_frame:end_frame]['wing_r_ang'].copy().values)\n",
    "stepsize=15\n",
    "\n",
    "#funk_ixs = [i+1 for i in np.where(np.diff(w_)>stepsize)[0]]\n",
    "#w_[funk_ixs] = np.nan\n",
    "#w_ = pd.Series(w_).interpolate().values\n",
    "\n",
    "grouped = consecutive(w_, stepsize=stepsize)\n",
    "grouped"
   ]
  },
  {
   "cell_type": "code",
   "execution_count": null,
   "id": "f9ccea47",
   "metadata": {},
   "outputs": [],
   "source": []
  },
  {
   "cell_type": "code",
   "execution_count": 467,
   "id": "43ee0e66",
   "metadata": {
    "scrolled": true
   },
   "outputs": [],
   "source": [
    "new_g = ww_.copy()\n",
    "ix = 0\n",
    "for i, g in enumerate(grouped):\n",
    "    if len(g)>1:\n",
    "        # Interpolate between last good val and next one (skip over the jump)\n",
    "        #g[0] = np.nan\n",
    "        new_g[ix] = np.nan #.extend(g)\n",
    "        #new_g[ix] = np.nan\n",
    "    ix+=len(g)\n",
    "ww_ = pd.Series(new_g).interpolate().values\n",
    "grouped2 = consecutive(ww_, stepsize=-stepsize)"
   ]
  },
  {
   "cell_type": "code",
   "execution_count": 471,
   "id": "7308cecb",
   "metadata": {},
   "outputs": [
    {
     "data": {
      "text/plain": [
       "array([  5.51449916,   6.03056597,   3.55892573,   5.1137643 ,\n",
       "         4.35510296,   3.805437  ,   4.12108907,   4.23110051,\n",
       "         3.74932875,   5.90846787,   3.23544442,   4.21451968,\n",
       "         4.0066494 ,   4.54772777,   4.87051959,   4.74320293,\n",
       "         6.26046032,   6.13075438,   4.48560263,   6.66483722,\n",
       "         5.58521819,   7.81656071,   6.42783707,   6.03344634,\n",
       "         5.72773761,   5.65777854,   5.62431209,   0.35512472,\n",
       "         1.00885682,   0.48275054,   1.39988697,   0.94633082,\n",
       "                nan,  16.9249078 ,  16.80033762,  17.38017485,\n",
       "        17.2346921 ,  17.17757376,  17.5563571 ,  17.43302552,\n",
       "        17.17201626,  17.32511832,  17.42832971,  16.91941066,\n",
       "        17.2585787 ,  17.40679185,  17.05504081,  17.2732521 ,\n",
       "        17.26270015,  16.93367137,  17.17961077,  17.11677003,\n",
       "        17.17747627,  16.55112819,  16.83694491,  17.3653747 ,\n",
       "        17.01914507,  16.79242478,  17.08395594,  17.10104369,\n",
       "        17.16800214,  17.17200482,  16.88492306,  17.18328967,\n",
       "        17.45821444,  16.66939779,  17.48084955,  16.9193365 ,\n",
       "                nan,  16.66113085,  17.0550333 ,          nan,\n",
       "        16.80259616,  16.64027021,          nan,  16.84065076,\n",
       "        16.36096417,          nan,  16.71298419,  16.61368133,\n",
       "        16.70572636,  16.54351873,          nan, 100.31596601,\n",
       "        16.82890995,          nan,  95.78264974,  97.49558512,\n",
       "        99.07813397, 102.07257932,  98.86558565,  18.22173549,\n",
       "                nan,  17.49997483,  17.73937639,  18.39243136,\n",
       "        19.02639225,  19.38139504,  19.77753651,  20.57291937,\n",
       "        21.88678312])"
      ]
     },
     "execution_count": 471,
     "metadata": {},
     "output_type": "execute_result"
    }
   ],
   "source": [
    "w_ = np.rad2deg(trkM.loc[start_frame:end_frame]['wing_r_ang'].copy().values)\n",
    "stepsize=10\n",
    "\n",
    "funk_ixs = [i+1 for i in np.where(np.diff(w_)>stepsize)[0]]\n",
    "w_[funk_ixs] = np.nan\n",
    "w_"
   ]
  },
  {
   "cell_type": "code",
   "execution_count": 472,
   "id": "db1c84c1",
   "metadata": {},
   "outputs": [
    {
     "data": {
      "text/plain": [
       "array([  5.51449916,   6.03056597,   3.55892573,   5.1137643 ,\n",
       "         4.35510296,   3.805437  ,   4.12108907,   4.23110051,\n",
       "         3.74932875,   5.90846787,   3.23544442,   4.21451968,\n",
       "         4.0066494 ,   4.54772777,   4.87051959,   4.74320293,\n",
       "         6.26046032,   6.13075438,   4.48560263,   6.66483722,\n",
       "         5.58521819,   7.81656071,   6.42783707,   6.03344634,\n",
       "         5.72773761,   5.65777854,   5.62431209,   0.35512472,\n",
       "         1.00885682,   0.48275054,   1.39988697,   0.94633082,\n",
       "        17.73318335,  16.9249078 ,  16.80033762,  17.38017485,\n",
       "        17.2346921 ,  17.17757376,  17.5563571 ,  17.43302552,\n",
       "        17.17201626,  17.32511832,  17.42832971,  16.91941066,\n",
       "        17.2585787 ,  17.40679185,  17.05504081,  17.2732521 ,\n",
       "        17.26270015,  16.93367137,  17.17961077,  17.11677003,\n",
       "        17.17747627,  16.55112819,  16.83694491,  17.3653747 ,\n",
       "        17.01914507,  16.79242478,  17.08395594,  17.10104369,\n",
       "        17.16800214,  17.17200482,  16.88492306,  17.18328967,\n",
       "        17.45821444,  16.66939779,  17.48084955,  16.9193365 ,\n",
       "       101.70574648,  16.66113085,  17.0550333 , 102.41226574,\n",
       "        16.80259616,  16.64027021,  99.7361616 ,  16.84065076,\n",
       "        16.36096417,  99.64655356,  16.71298419,  16.61368133,\n",
       "        16.70572636,  16.54351873,  99.42069409, 100.31596601,\n",
       "        16.82890995,  95.77851713,  95.78264974,  97.49558512,\n",
       "        99.07813397, 102.07257932,  98.86558565,  18.22173549,\n",
       "       100.21776383,  17.49997483,  17.73937639,  18.39243136,\n",
       "        19.02639225,  19.38139504,  19.77753651,  20.57291937,\n",
       "        21.88678312])"
      ]
     },
     "execution_count": 472,
     "metadata": {},
     "output_type": "execute_result"
    }
   ],
   "source": [
    "np.rad2deg(trkM.loc[start_frame:end_frame]['wing_r_ang'].copy().values)"
   ]
  },
  {
   "cell_type": "code",
   "execution_count": null,
   "id": "5e10ffe1",
   "metadata": {},
   "outputs": [],
   "source": []
  },
  {
   "cell_type": "code",
   "execution_count": 446,
   "id": "fbc5f115",
   "metadata": {},
   "outputs": [],
   "source": [
    "w_ = np.rad2deg(trkM.loc[start_frame:end_frame]['wing_r_ang'].copy().values)\n",
    "stepsize=10\n",
    "grouped = consecutive(w_, stepsize=-stepsize)"
   ]
  },
  {
   "cell_type": "code",
   "execution_count": 450,
   "id": "d0d3c498",
   "metadata": {
    "scrolled": true
   },
   "outputs": [
    {
     "data": {
      "text/html": [
       "<div>\n",
       "<style scoped>\n",
       "    .dataframe tbody tr th:only-of-type {\n",
       "        vertical-align: middle;\n",
       "    }\n",
       "\n",
       "    .dataframe tbody tr th {\n",
       "        vertical-align: top;\n",
       "    }\n",
       "\n",
       "    .dataframe thead th {\n",
       "        text-align: right;\n",
       "    }\n",
       "</style>\n",
       "<table border=\"1\" class=\"dataframe\">\n",
       "  <thead>\n",
       "    <tr style=\"text-align: right;\">\n",
       "      <th></th>\n",
       "      <th>0</th>\n",
       "    </tr>\n",
       "  </thead>\n",
       "  <tbody>\n",
       "    <tr>\n",
       "      <th>0</th>\n",
       "      <td>5.514499</td>\n",
       "    </tr>\n",
       "    <tr>\n",
       "      <th>1</th>\n",
       "      <td>6.030566</td>\n",
       "    </tr>\n",
       "    <tr>\n",
       "      <th>2</th>\n",
       "      <td>3.558926</td>\n",
       "    </tr>\n",
       "    <tr>\n",
       "      <th>3</th>\n",
       "      <td>5.113764</td>\n",
       "    </tr>\n",
       "    <tr>\n",
       "      <th>4</th>\n",
       "      <td>4.355103</td>\n",
       "    </tr>\n",
       "    <tr>\n",
       "      <th>...</th>\n",
       "      <td>...</td>\n",
       "    </tr>\n",
       "    <tr>\n",
       "      <th>96</th>\n",
       "      <td>19.026392</td>\n",
       "    </tr>\n",
       "    <tr>\n",
       "      <th>97</th>\n",
       "      <td>19.381395</td>\n",
       "    </tr>\n",
       "    <tr>\n",
       "      <th>98</th>\n",
       "      <td>19.777537</td>\n",
       "    </tr>\n",
       "    <tr>\n",
       "      <th>99</th>\n",
       "      <td>20.572919</td>\n",
       "    </tr>\n",
       "    <tr>\n",
       "      <th>100</th>\n",
       "      <td>21.886783</td>\n",
       "    </tr>\n",
       "  </tbody>\n",
       "</table>\n",
       "<p>101 rows × 1 columns</p>\n",
       "</div>"
      ],
      "text/plain": [
       "             0\n",
       "0     5.514499\n",
       "1     6.030566\n",
       "2     3.558926\n",
       "3     5.113764\n",
       "4     4.355103\n",
       "..         ...\n",
       "96   19.026392\n",
       "97   19.381395\n",
       "98   19.777537\n",
       "99   20.572919\n",
       "100  21.886783\n",
       "\n",
       "[101 rows x 1 columns]"
      ]
     },
     "execution_count": 450,
     "metadata": {},
     "output_type": "execute_result"
    }
   ],
   "source": [
    "ww_"
   ]
  },
  {
   "cell_type": "code",
   "execution_count": null,
   "id": "0aa398bd",
   "metadata": {},
   "outputs": [],
   "source": []
  },
  {
   "cell_type": "code",
   "execution_count": 427,
   "id": "9cc3094b",
   "metadata": {},
   "outputs": [
    {
     "data": {
      "text/plain": [
       "[<matplotlib.lines.Line2D at 0x7f89d0cb54c0>]"
      ]
     },
     "execution_count": 427,
     "metadata": {},
     "output_type": "execute_result"
    },
    {
     "data": {
      "image/png": "[encoded data removed]",
      "text/plain": [
       "<Figure size 500x400 with 1 Axes>"
      ]
     },
     "metadata": {
      "needs_background": "light"
     },
     "output_type": "display_data"
    }
   ],
   "source": [
    "pl.figure()\n",
    "pl.plot(w_)\n",
    "pl.plot(ww_)\n"
   ]
  },
  {
   "cell_type": "code",
   "execution_count": 368,
   "id": "7881864c",
   "metadata": {},
   "outputs": [
    {
     "ename": "KeyboardInterrupt",
     "evalue": "",
     "output_type": "error",
     "traceback": [
      "\u001b[0;31m---------------------------------------------------------------------------\u001b[0m",
      "\u001b[0;31mKeyboardInterrupt\u001b[0m                         Traceback (most recent call last)",
      "\u001b[0;32m<ipython-input-368-561856e18cfd>\u001b[0m in \u001b[0;36m<module>\u001b[0;34m\u001b[0m\n\u001b[1;32m      1\u001b[0m \u001b[0mstepsize\u001b[0m\u001b[0;34m=\u001b[0m\u001b[0;36m60\u001b[0m\u001b[0;34m\u001b[0m\u001b[0;34m\u001b[0m\u001b[0m\n\u001b[1;32m      2\u001b[0m \u001b[0mr_\u001b[0m \u001b[0;34m=\u001b[0m \u001b[0mnp\u001b[0m\u001b[0;34m.\u001b[0m\u001b[0mrad2deg\u001b[0m\u001b[0;34m(\u001b[0m\u001b[0mtrkM\u001b[0m\u001b[0;34m.\u001b[0m\u001b[0mloc\u001b[0m\u001b[0;34m[\u001b[0m\u001b[0mstart_frame\u001b[0m\u001b[0;34m:\u001b[0m\u001b[0mend_frame\u001b[0m\u001b[0;34m]\u001b[0m\u001b[0;34m[\u001b[0m\u001b[0;34m'wing_r_ang'\u001b[0m\u001b[0;34m]\u001b[0m\u001b[0;34m.\u001b[0m\u001b[0mvalues\u001b[0m\u001b[0;34m)\u001b[0m\u001b[0;34m\u001b[0m\u001b[0;34m\u001b[0m\u001b[0m\n\u001b[0;32m----> 3\u001b[0;31m \u001b[0mrr_\u001b[0m \u001b[0;34m=\u001b[0m \u001b[0mfix_jumps\u001b[0m\u001b[0;34m(\u001b[0m\u001b[0mw_\u001b[0m\u001b[0;34m,\u001b[0m \u001b[0mstepsize\u001b[0m\u001b[0;34m=\u001b[0m\u001b[0mstepsize\u001b[0m\u001b[0;34m)\u001b[0m\u001b[0;34m\u001b[0m\u001b[0;34m\u001b[0m\u001b[0m\n\u001b[0m\u001b[1;32m      4\u001b[0m \u001b[0;34m\u001b[0m\u001b[0m\n\u001b[1;32m      5\u001b[0m \u001b[0ml_\u001b[0m \u001b[0;34m=\u001b[0m \u001b[0mnp\u001b[0m\u001b[0;34m.\u001b[0m\u001b[0mrad2deg\u001b[0m\u001b[0;34m(\u001b[0m\u001b[0mtrkM\u001b[0m\u001b[0;34m.\u001b[0m\u001b[0mloc\u001b[0m\u001b[0;34m[\u001b[0m\u001b[0mstart_frame\u001b[0m\u001b[0;34m:\u001b[0m\u001b[0mend_frame\u001b[0m\u001b[0;34m]\u001b[0m\u001b[0;34m[\u001b[0m\u001b[0;34m'wing_l_ang'\u001b[0m\u001b[0;34m]\u001b[0m\u001b[0;34m.\u001b[0m\u001b[0mvalues\u001b[0m\u001b[0;34m)\u001b[0m\u001b[0;34m\u001b[0m\u001b[0;34m\u001b[0m\u001b[0m\n",
      "\u001b[0;32m<ipython-input-356-d5786c209e70>\u001b[0m in \u001b[0;36mfix_jumps\u001b[0;34m(w_, stepsize, sign)\u001b[0m\n\u001b[1;32m     20\u001b[0m             \u001b[0mix\u001b[0m\u001b[0;34m+=\u001b[0m\u001b[0mlen\u001b[0m\u001b[0;34m(\u001b[0m\u001b[0mg\u001b[0m\u001b[0;34m)\u001b[0m\u001b[0;34m\u001b[0m\u001b[0;34m\u001b[0m\u001b[0m\n\u001b[1;32m     21\u001b[0m         \u001b[0mnew_\u001b[0m \u001b[0;34m=\u001b[0m \u001b[0mpd\u001b[0m\u001b[0;34m.\u001b[0m\u001b[0mSeries\u001b[0m\u001b[0;34m(\u001b[0m\u001b[0mww_\u001b[0m\u001b[0;34m)\u001b[0m\u001b[0;34m.\u001b[0m\u001b[0minterpolate\u001b[0m\u001b[0;34m(\u001b[0m\u001b[0;34m)\u001b[0m\u001b[0;34m\u001b[0m\u001b[0;34m\u001b[0m\u001b[0m\n\u001b[0;32m---> 22\u001b[0;31m         \u001b[0mgrouped\u001b[0m \u001b[0;34m=\u001b[0m \u001b[0mconsecutive\u001b[0m\u001b[0;34m(\u001b[0m\u001b[0mnew_\u001b[0m\u001b[0;34m.\u001b[0m\u001b[0mvalues\u001b[0m\u001b[0;34m,\u001b[0m \u001b[0mstepsize\u001b[0m\u001b[0;34m=\u001b[0m\u001b[0;34m-\u001b[0m\u001b[0mstepsize\u001b[0m\u001b[0;34m)\u001b[0m\u001b[0;34m\u001b[0m\u001b[0;34m\u001b[0m\u001b[0m\n\u001b[0m\u001b[1;32m     23\u001b[0m     \u001b[0;32mreturn\u001b[0m \u001b[0mww_\u001b[0m\u001b[0;34m\u001b[0m\u001b[0;34m\u001b[0m\u001b[0m\n",
      "\u001b[0;32m<ipython-input-348-b6e1cb15ba12>\u001b[0m in \u001b[0;36mconsecutive\u001b[0;34m(data, stepsize)\u001b[0m\n\u001b[1;32m      1\u001b[0m \u001b[0;32mdef\u001b[0m \u001b[0mconsecutive\u001b[0m\u001b[0;34m(\u001b[0m\u001b[0mdata\u001b[0m\u001b[0;34m,\u001b[0m \u001b[0mstepsize\u001b[0m\u001b[0;34m=\u001b[0m\u001b[0;36m1\u001b[0m\u001b[0;34m)\u001b[0m\u001b[0;34m:\u001b[0m\u001b[0;34m\u001b[0m\u001b[0;34m\u001b[0m\u001b[0m\n\u001b[1;32m      2\u001b[0m     \u001b[0;31m#return np.split(data, np.where((np.diff(data)) >= stepsize)[0]+1)\u001b[0m\u001b[0;34m\u001b[0m\u001b[0;34m\u001b[0m\u001b[0;34m\u001b[0m\u001b[0m\n\u001b[0;32m----> 3\u001b[0;31m     \u001b[0;32mreturn\u001b[0m \u001b[0mnp\u001b[0m\u001b[0;34m.\u001b[0m\u001b[0msplit\u001b[0m\u001b[0;34m(\u001b[0m\u001b[0mdata\u001b[0m\u001b[0;34m,\u001b[0m \u001b[0mnp\u001b[0m\u001b[0;34m.\u001b[0m\u001b[0mwhere\u001b[0m\u001b[0;34m(\u001b[0m\u001b[0mnp\u001b[0m\u001b[0;34m.\u001b[0m\u001b[0mdiff\u001b[0m\u001b[0;34m(\u001b[0m\u001b[0mdata\u001b[0m\u001b[0;34m)\u001b[0m \u001b[0;34m>=\u001b[0m \u001b[0mstepsize\u001b[0m\u001b[0;34m)\u001b[0m\u001b[0;34m[\u001b[0m\u001b[0;36m0\u001b[0m\u001b[0;34m]\u001b[0m\u001b[0;34m+\u001b[0m\u001b[0;36m1\u001b[0m\u001b[0;34m)\u001b[0m\u001b[0;34m\u001b[0m\u001b[0;34m\u001b[0m\u001b[0m\n\u001b[0m",
      "\u001b[0;32m<__array_function__ internals>\u001b[0m in \u001b[0;36msplit\u001b[0;34m(*args, **kwargs)\u001b[0m\n",
      "\u001b[0;32m~/anaconda3/lib/python3.8/site-packages/numpy/lib/shape_base.py\u001b[0m in \u001b[0;36msplit\u001b[0;34m(ary, indices_or_sections, axis)\u001b[0m\n\u001b[1;32m    872\u001b[0m             raise ValueError(\n\u001b[1;32m    873\u001b[0m                 'array split does not result in an equal division') from None\n\u001b[0;32m--> 874\u001b[0;31m     \u001b[0;32mreturn\u001b[0m \u001b[0marray_split\u001b[0m\u001b[0;34m(\u001b[0m\u001b[0mary\u001b[0m\u001b[0;34m,\u001b[0m \u001b[0mindices_or_sections\u001b[0m\u001b[0;34m,\u001b[0m \u001b[0maxis\u001b[0m\u001b[0;34m)\u001b[0m\u001b[0;34m\u001b[0m\u001b[0;34m\u001b[0m\u001b[0m\n\u001b[0m\u001b[1;32m    875\u001b[0m \u001b[0;34m\u001b[0m\u001b[0m\n\u001b[1;32m    876\u001b[0m \u001b[0;34m\u001b[0m\u001b[0m\n",
      "\u001b[0;32m<__array_function__ internals>\u001b[0m in \u001b[0;36marray_split\u001b[0;34m(*args, **kwargs)\u001b[0m\n",
      "\u001b[0;32m~/anaconda3/lib/python3.8/site-packages/numpy/lib/shape_base.py\u001b[0m in \u001b[0;36marray_split\u001b[0;34m(ary, indices_or_sections, axis)\u001b[0m\n\u001b[1;32m    788\u001b[0m         \u001b[0mst\u001b[0m \u001b[0;34m=\u001b[0m \u001b[0mdiv_points\u001b[0m\u001b[0;34m[\u001b[0m\u001b[0mi\u001b[0m\u001b[0;34m]\u001b[0m\u001b[0;34m\u001b[0m\u001b[0;34m\u001b[0m\u001b[0m\n\u001b[1;32m    789\u001b[0m         \u001b[0mend\u001b[0m \u001b[0;34m=\u001b[0m \u001b[0mdiv_points\u001b[0m\u001b[0;34m[\u001b[0m\u001b[0mi\u001b[0m \u001b[0;34m+\u001b[0m \u001b[0;36m1\u001b[0m\u001b[0;34m]\u001b[0m\u001b[0;34m\u001b[0m\u001b[0;34m\u001b[0m\u001b[0m\n\u001b[0;32m--> 790\u001b[0;31m         \u001b[0msub_arys\u001b[0m\u001b[0;34m.\u001b[0m\u001b[0mappend\u001b[0m\u001b[0;34m(\u001b[0m\u001b[0m_nx\u001b[0m\u001b[0;34m.\u001b[0m\u001b[0mswapaxes\u001b[0m\u001b[0;34m(\u001b[0m\u001b[0msary\u001b[0m\u001b[0;34m[\u001b[0m\u001b[0mst\u001b[0m\u001b[0;34m:\u001b[0m\u001b[0mend\u001b[0m\u001b[0;34m]\u001b[0m\u001b[0;34m,\u001b[0m \u001b[0maxis\u001b[0m\u001b[0;34m,\u001b[0m \u001b[0;36m0\u001b[0m\u001b[0;34m)\u001b[0m\u001b[0;34m)\u001b[0m\u001b[0;34m\u001b[0m\u001b[0;34m\u001b[0m\u001b[0m\n\u001b[0m\u001b[1;32m    791\u001b[0m \u001b[0;34m\u001b[0m\u001b[0m\n\u001b[1;32m    792\u001b[0m     \u001b[0;32mreturn\u001b[0m \u001b[0msub_arys\u001b[0m\u001b[0;34m\u001b[0m\u001b[0;34m\u001b[0m\u001b[0m\n",
      "\u001b[0;32m<__array_function__ internals>\u001b[0m in \u001b[0;36mswapaxes\u001b[0;34m(*args, **kwargs)\u001b[0m\n",
      "\u001b[0;31mKeyboardInterrupt\u001b[0m: "
     ]
    }
   ],
   "source": [
    "stepsize=60\n",
    "r_ = np.rad2deg(trkM.loc[start_frame:end_frame]['wing_r_ang'].values)\n",
    "rr_ = fix_jumps(w_, stepsize=stepsize)\n",
    "\n",
    "l_ = np.rad2deg(trkM.loc[start_frame:end_frame]['wing_l_ang'].values)\n",
    "ll_ = fix_jumps(l_, stepsize=stepsize, sign=1)\n"
   ]
  },
  {
   "cell_type": "code",
   "execution_count": 371,
   "id": "11ce7253",
   "metadata": {},
   "outputs": [
    {
     "data": {
      "text/plain": [
       "[<matplotlib.lines.Line2D at 0x7f89d092cc70>]"
      ]
     },
     "execution_count": 371,
     "metadata": {},
     "output_type": "execute_result"
    },
    {
     "data": {
      "image/png": "[encoded data removed]",
      "text/plain": [
       "<Figure size 500x400 with 2 Axes>"
      ]
     },
     "metadata": {
      "needs_background": "light"
     },
     "output_type": "display_data"
    }
   ],
   "source": [
    "#w_ = np.rad2deg(trkM.loc[start_frame:end_frame]['wing_l_ang'].values)\n",
    "# ix = np.where(np.abs(np.diff(np.rad2deg(trkM.loc[start_frame:end_frame]['wing_l_ang'])))>60)[0]\n",
    "# w_[ix] = np.nan\n",
    "\n",
    "fig, axn = pl.subplots(1,2)\n",
    "#pl.plot(w_)\n",
    "axn[0].plot(np.rad2deg(trkM.loc[start_frame:end_frame]['wing_l_ang'].values), 'k')\n",
    "axn[0].plot(w_, 'r')\n",
    "\n",
    "axn[1].plot(np.rad2deg(trkM.loc[start_frame:end_frame]['wing_r_ang'].values), 'k')\n",
    "axn[1].plot(rr_, 'r')\n",
    "#pl.plot(np.rad2deg(trkM.loc[start_frame:end_frame]['wing_r_ang'].values))\n",
    "                    \n"
   ]
  },
  {
   "cell_type": "code",
   "execution_count": null,
   "id": "35e6b1ef",
   "metadata": {},
   "outputs": [],
   "source": []
  },
  {
   "cell_type": "code",
   "execution_count": null,
   "id": "a5e6fa86",
   "metadata": {},
   "outputs": [],
   "source": [
    "pl.figure()\n",
    "pl.plot(np.diff(np.rad2deg(trkM.loc[start_frame:end_frame]['wing_l_ang'])))\n",
    "\n",
    "pl.plot(np.diff(np.rad2deg(trkM.loc[start_frame:end_frame]['wing_r_ang'])))"
   ]
  },
  {
   "cell_type": "code",
   "execution_count": 61,
   "id": "d5df92ee",
   "metadata": {},
   "outputs": [
    {
     "data": {
      "text/plain": [
       "3485"
      ]
     },
     "execution_count": 61,
     "metadata": {},
     "output_type": "execute_result"
    }
   ],
   "source": [
    "start_frame"
   ]
  },
  {
   "cell_type": "code",
   "execution_count": 62,
   "id": "58b79e74",
   "metadata": {},
   "outputs": [
    {
     "data": {
      "text/plain": [
       "7085"
      ]
     },
     "execution_count": 62,
     "metadata": {},
     "output_type": "execute_result"
    }
   ],
   "source": [
    "end_frame"
   ]
  },
  {
   "cell_type": "code",
   "execution_count": 65,
   "id": "fe3d3e53",
   "metadata": {},
   "outputs": [],
   "source": [
    "trk.index = trk['frame']"
   ]
  },
  {
   "cell_type": "code",
   "execution_count": 66,
   "id": "70a4c931",
   "metadata": {},
   "outputs": [
    {
     "data": {
      "text/html": [
       "<div>\n",
       "<style scoped>\n",
       "    .dataframe tbody tr th:only-of-type {\n",
       "        vertical-align: middle;\n",
       "    }\n",
       "\n",
       "    .dataframe tbody tr th {\n",
       "        vertical-align: top;\n",
       "    }\n",
       "\n",
       "    .dataframe thead th {\n",
       "        text-align: right;\n",
       "    }\n",
       "</style>\n",
       "<table border=\"1\" class=\"dataframe\">\n",
       "  <thead>\n",
       "    <tr style=\"text-align: right;\">\n",
       "      <th></th>\n",
       "      <th>pos_x</th>\n",
       "      <th>pos_y</th>\n",
       "      <th>ori</th>\n",
       "      <th>major_axis_len</th>\n",
       "      <th>minor_axis_len</th>\n",
       "      <th>body_area</th>\n",
       "      <th>fg_area</th>\n",
       "      <th>img_contrast</th>\n",
       "      <th>min_fg_dist</th>\n",
       "      <th>wing_l_x</th>\n",
       "      <th>...</th>\n",
       "      <th>leg_1_ang</th>\n",
       "      <th>leg_2_ang</th>\n",
       "      <th>leg_3_ang</th>\n",
       "      <th>leg_4_ang</th>\n",
       "      <th>leg_5_ang</th>\n",
       "      <th>leg_6_ang</th>\n",
       "      <th>id</th>\n",
       "      <th>fpath</th>\n",
       "      <th>frame</th>\n",
       "      <th>sec</th>\n",
       "    </tr>\n",
       "    <tr>\n",
       "      <th>frame</th>\n",
       "      <th></th>\n",
       "      <th></th>\n",
       "      <th></th>\n",
       "      <th></th>\n",
       "      <th></th>\n",
       "      <th></th>\n",
       "      <th></th>\n",
       "      <th></th>\n",
       "      <th></th>\n",
       "      <th></th>\n",
       "      <th></th>\n",
       "      <th></th>\n",
       "      <th></th>\n",
       "      <th></th>\n",
       "      <th></th>\n",
       "      <th></th>\n",
       "      <th></th>\n",
       "      <th></th>\n",
       "      <th></th>\n",
       "      <th></th>\n",
       "      <th></th>\n",
       "    </tr>\n",
       "  </thead>\n",
       "  <tbody>\n",
       "    <tr>\n",
       "      <th>0</th>\n",
       "      <td>1248.206635</td>\n",
       "      <td>731.921292</td>\n",
       "      <td>-0.547973</td>\n",
       "      <td>112.712404</td>\n",
       "      <td>53.350349</td>\n",
       "      <td>4612.0</td>\n",
       "      <td>11483.0</td>\n",
       "      <td>0.153241</td>\n",
       "      <td>748.657471</td>\n",
       "      <td>1167.0</td>\n",
       "      <td>...</td>\n",
       "      <td>-2.666594</td>\n",
       "      <td>-2.357944</td>\n",
       "      <td>-1.602993</td>\n",
       "      <td>-0.736836</td>\n",
       "      <td>1.974389</td>\n",
       "      <td>2.943808</td>\n",
       "      <td>1</td>\n",
       "      <td>/mnt/sda/Videos/single_20mm_1x1/20220203-0951_...</td>\n",
       "      <td>0</td>\n",
       "      <td>0.0</td>\n",
       "    </tr>\n",
       "    <tr>\n",
       "      <th>1</th>\n",
       "      <td>1248.467975</td>\n",
       "      <td>732.792754</td>\n",
       "      <td>-0.538186</td>\n",
       "      <td>112.550175</td>\n",
       "      <td>53.558766</td>\n",
       "      <td>4637.0</td>\n",
       "      <td>11452.0</td>\n",
       "      <td>0.150636</td>\n",
       "      <td>748.657471</td>\n",
       "      <td>1167.0</td>\n",
       "      <td>...</td>\n",
       "      <td>-2.624758</td>\n",
       "      <td>-2.356514</td>\n",
       "      <td>-1.604847</td>\n",
       "      <td>-0.758138</td>\n",
       "      <td>1.970682</td>\n",
       "      <td>2.956512</td>\n",
       "      <td>1</td>\n",
       "      <td>/mnt/sda/Videos/single_20mm_1x1/20220203-0951_...</td>\n",
       "      <td>1</td>\n",
       "      <td>0.016667</td>\n",
       "    </tr>\n",
       "    <tr>\n",
       "      <th>2</th>\n",
       "      <td>1248.646443</td>\n",
       "      <td>733.491270</td>\n",
       "      <td>-0.535010</td>\n",
       "      <td>111.961618</td>\n",
       "      <td>53.368481</td>\n",
       "      <td>4582.0</td>\n",
       "      <td>11437.0</td>\n",
       "      <td>0.154202</td>\n",
       "      <td>740.149292</td>\n",
       "      <td>1169.0</td>\n",
       "      <td>...</td>\n",
       "      <td>-2.651071</td>\n",
       "      <td>-2.323625</td>\n",
       "      <td>-1.592419</td>\n",
       "      <td>-0.761524</td>\n",
       "      <td>1.960018</td>\n",
       "      <td>2.941177</td>\n",
       "      <td>1</td>\n",
       "      <td>/mnt/sda/Videos/single_20mm_1x1/20220203-0951_...</td>\n",
       "      <td>2</td>\n",
       "      <td>0.033333</td>\n",
       "    </tr>\n",
       "    <tr>\n",
       "      <th>3</th>\n",
       "      <td>1249.037915</td>\n",
       "      <td>734.177941</td>\n",
       "      <td>-0.539174</td>\n",
       "      <td>112.423550</td>\n",
       "      <td>53.673605</td>\n",
       "      <td>4642.0</td>\n",
       "      <td>11443.0</td>\n",
       "      <td>0.149278</td>\n",
       "      <td>746.311584</td>\n",
       "      <td>1170.0</td>\n",
       "      <td>...</td>\n",
       "      <td>-2.634966</td>\n",
       "      <td>-2.337175</td>\n",
       "      <td>-1.580365</td>\n",
       "      <td>-0.740342</td>\n",
       "      <td>1.969174</td>\n",
       "      <td>2.948349</td>\n",
       "      <td>1</td>\n",
       "      <td>/mnt/sda/Videos/single_20mm_1x1/20220203-0951_...</td>\n",
       "      <td>3</td>\n",
       "      <td>0.05</td>\n",
       "    </tr>\n",
       "    <tr>\n",
       "      <th>4</th>\n",
       "      <td>1249.335612</td>\n",
       "      <td>736.302315</td>\n",
       "      <td>-0.552090</td>\n",
       "      <td>110.772306</td>\n",
       "      <td>53.264438</td>\n",
       "      <td>4535.0</td>\n",
       "      <td>11506.0</td>\n",
       "      <td>0.143460</td>\n",
       "      <td>738.033203</td>\n",
       "      <td>1170.0</td>\n",
       "      <td>...</td>\n",
       "      <td>-2.645755</td>\n",
       "      <td>-1.561813</td>\n",
       "      <td>-0.731212</td>\n",
       "      <td>1.973556</td>\n",
       "      <td>2.995978</td>\n",
       "      <td>NaN</td>\n",
       "      <td>1</td>\n",
       "      <td>/mnt/sda/Videos/single_20mm_1x1/20220203-0951_...</td>\n",
       "      <td>4</td>\n",
       "      <td>0.066667</td>\n",
       "    </tr>\n",
       "    <tr>\n",
       "      <th>...</th>\n",
       "      <td>...</td>\n",
       "      <td>...</td>\n",
       "      <td>...</td>\n",
       "      <td>...</td>\n",
       "      <td>...</td>\n",
       "      <td>...</td>\n",
       "      <td>...</td>\n",
       "      <td>...</td>\n",
       "      <td>...</td>\n",
       "      <td>...</td>\n",
       "      <td>...</td>\n",
       "      <td>...</td>\n",
       "      <td>...</td>\n",
       "      <td>...</td>\n",
       "      <td>...</td>\n",
       "      <td>...</td>\n",
       "      <td>...</td>\n",
       "      <td>...</td>\n",
       "      <td>...</td>\n",
       "      <td>...</td>\n",
       "      <td>...</td>\n",
       "    </tr>\n",
       "    <tr>\n",
       "      <th>73653</th>\n",
       "      <td>637.639378</td>\n",
       "      <td>611.217818</td>\n",
       "      <td>-2.201868</td>\n",
       "      <td>141.097389</td>\n",
       "      <td>51.104783</td>\n",
       "      <td>5399.0</td>\n",
       "      <td>23093.0</td>\n",
       "      <td>0.195372</td>\n",
       "      <td>0.000000</td>\n",
       "      <td>736.0</td>\n",
       "      <td>...</td>\n",
       "      <td>-2.812091</td>\n",
       "      <td>-2.419655</td>\n",
       "      <td>-2.242183</td>\n",
       "      <td>-1.621774</td>\n",
       "      <td>1.502696</td>\n",
       "      <td>2.924104</td>\n",
       "      <td>1</td>\n",
       "      <td>/mnt/sda/Videos/single_20mm_1x1/20220203-0951_...</td>\n",
       "      <td>73653</td>\n",
       "      <td>1227.55</td>\n",
       "    </tr>\n",
       "    <tr>\n",
       "      <th>73654</th>\n",
       "      <td>637.345919</td>\n",
       "      <td>610.963169</td>\n",
       "      <td>-2.205916</td>\n",
       "      <td>141.154744</td>\n",
       "      <td>51.238503</td>\n",
       "      <td>5403.0</td>\n",
       "      <td>13257.0</td>\n",
       "      <td>0.193670</td>\n",
       "      <td>15.132746</td>\n",
       "      <td>736.0</td>\n",
       "      <td>...</td>\n",
       "      <td>-2.803383</td>\n",
       "      <td>-2.411131</td>\n",
       "      <td>-2.241810</td>\n",
       "      <td>-1.618125</td>\n",
       "      <td>1.506844</td>\n",
       "      <td>2.924592</td>\n",
       "      <td>1</td>\n",
       "      <td>/mnt/sda/Videos/single_20mm_1x1/20220203-0951_...</td>\n",
       "      <td>73654</td>\n",
       "      <td>1227.566667</td>\n",
       "    </tr>\n",
       "    <tr>\n",
       "      <th>73655</th>\n",
       "      <td>637.280125</td>\n",
       "      <td>611.178815</td>\n",
       "      <td>-2.208358</td>\n",
       "      <td>141.548049</td>\n",
       "      <td>51.162522</td>\n",
       "      <td>5419.0</td>\n",
       "      <td>13204.0</td>\n",
       "      <td>0.195719</td>\n",
       "      <td>20.223749</td>\n",
       "      <td>736.0</td>\n",
       "      <td>...</td>\n",
       "      <td>-2.813451</td>\n",
       "      <td>-2.392446</td>\n",
       "      <td>-2.274545</td>\n",
       "      <td>-1.629330</td>\n",
       "      <td>1.505866</td>\n",
       "      <td>2.925496</td>\n",
       "      <td>1</td>\n",
       "      <td>/mnt/sda/Videos/single_20mm_1x1/20220203-0951_...</td>\n",
       "      <td>73655</td>\n",
       "      <td>1227.583333</td>\n",
       "    </tr>\n",
       "    <tr>\n",
       "      <th>73656</th>\n",
       "      <td>637.278427</td>\n",
       "      <td>611.400853</td>\n",
       "      <td>-2.211119</td>\n",
       "      <td>141.556285</td>\n",
       "      <td>50.879599</td>\n",
       "      <td>5391.0</td>\n",
       "      <td>13202.0</td>\n",
       "      <td>0.195730</td>\n",
       "      <td>9.486833</td>\n",
       "      <td>736.0</td>\n",
       "      <td>...</td>\n",
       "      <td>-2.795202</td>\n",
       "      <td>-2.386412</td>\n",
       "      <td>-2.281361</td>\n",
       "      <td>1.505820</td>\n",
       "      <td>2.926102</td>\n",
       "      <td>NaN</td>\n",
       "      <td>1</td>\n",
       "      <td>/mnt/sda/Videos/single_20mm_1x1/20220203-0951_...</td>\n",
       "      <td>73656</td>\n",
       "      <td>1227.6</td>\n",
       "    </tr>\n",
       "    <tr>\n",
       "      <th>73657</th>\n",
       "      <td>637.455593</td>\n",
       "      <td>611.342995</td>\n",
       "      <td>-2.213335</td>\n",
       "      <td>141.321436</td>\n",
       "      <td>50.940699</td>\n",
       "      <td>5382.0</td>\n",
       "      <td>13182.0</td>\n",
       "      <td>0.192568</td>\n",
       "      <td>10.770329</td>\n",
       "      <td>736.0</td>\n",
       "      <td>...</td>\n",
       "      <td>-2.794970</td>\n",
       "      <td>-2.315486</td>\n",
       "      <td>-1.627866</td>\n",
       "      <td>1.487454</td>\n",
       "      <td>2.927381</td>\n",
       "      <td>NaN</td>\n",
       "      <td>1</td>\n",
       "      <td>/mnt/sda/Videos/single_20mm_1x1/20220203-0951_...</td>\n",
       "      <td>73657</td>\n",
       "      <td>1227.616667</td>\n",
       "    </tr>\n",
       "  </tbody>\n",
       "</table>\n",
       "<p>73658 rows × 39 columns</p>\n",
       "</div>"
      ],
      "text/plain": [
       "             pos_x       pos_y       ori  major_axis_len  minor_axis_len  \\\n",
       "frame                                                                      \n",
       "0      1248.206635  731.921292 -0.547973      112.712404       53.350349   \n",
       "1      1248.467975  732.792754 -0.538186      112.550175       53.558766   \n",
       "2      1248.646443  733.491270 -0.535010      111.961618       53.368481   \n",
       "3      1249.037915  734.177941 -0.539174      112.423550       53.673605   \n",
       "4      1249.335612  736.302315 -0.552090      110.772306       53.264438   \n",
       "...            ...         ...       ...             ...             ...   \n",
       "73653   637.639378  611.217818 -2.201868      141.097389       51.104783   \n",
       "73654   637.345919  610.963169 -2.205916      141.154744       51.238503   \n",
       "73655   637.280125  611.178815 -2.208358      141.548049       51.162522   \n",
       "73656   637.278427  611.400853 -2.211119      141.556285       50.879599   \n",
       "73657   637.455593  611.342995 -2.213335      141.321436       50.940699   \n",
       "\n",
       "       body_area  fg_area  img_contrast  min_fg_dist  wing_l_x  ...  \\\n",
       "frame                                                           ...   \n",
       "0         4612.0  11483.0      0.153241   748.657471    1167.0  ...   \n",
       "1         4637.0  11452.0      0.150636   748.657471    1167.0  ...   \n",
       "2         4582.0  11437.0      0.154202   740.149292    1169.0  ...   \n",
       "3         4642.0  11443.0      0.149278   746.311584    1170.0  ...   \n",
       "4         4535.0  11506.0      0.143460   738.033203    1170.0  ...   \n",
       "...          ...      ...           ...          ...       ...  ...   \n",
       "73653     5399.0  23093.0      0.195372     0.000000     736.0  ...   \n",
       "73654     5403.0  13257.0      0.193670    15.132746     736.0  ...   \n",
       "73655     5419.0  13204.0      0.195719    20.223749     736.0  ...   \n",
       "73656     5391.0  13202.0      0.195730     9.486833     736.0  ...   \n",
       "73657     5382.0  13182.0      0.192568    10.770329     736.0  ...   \n",
       "\n",
       "       leg_1_ang  leg_2_ang  leg_3_ang  leg_4_ang  leg_5_ang  leg_6_ang  id  \\\n",
       "frame                                                                         \n",
       "0      -2.666594  -2.357944  -1.602993  -0.736836   1.974389   2.943808   1   \n",
       "1      -2.624758  -2.356514  -1.604847  -0.758138   1.970682   2.956512   1   \n",
       "2      -2.651071  -2.323625  -1.592419  -0.761524   1.960018   2.941177   1   \n",
       "3      -2.634966  -2.337175  -1.580365  -0.740342   1.969174   2.948349   1   \n",
       "4      -2.645755  -1.561813  -0.731212   1.973556   2.995978        NaN   1   \n",
       "...          ...        ...        ...        ...        ...        ...  ..   \n",
       "73653  -2.812091  -2.419655  -2.242183  -1.621774   1.502696   2.924104   1   \n",
       "73654  -2.803383  -2.411131  -2.241810  -1.618125   1.506844   2.924592   1   \n",
       "73655  -2.813451  -2.392446  -2.274545  -1.629330   1.505866   2.925496   1   \n",
       "73656  -2.795202  -2.386412  -2.281361   1.505820   2.926102        NaN   1   \n",
       "73657  -2.794970  -2.315486  -1.627866   1.487454   2.927381        NaN   1   \n",
       "\n",
       "                                                   fpath  frame          sec  \n",
       "frame                                                                         \n",
       "0      /mnt/sda/Videos/single_20mm_1x1/20220203-0951_...      0          0.0  \n",
       "1      /mnt/sda/Videos/single_20mm_1x1/20220203-0951_...      1     0.016667  \n",
       "2      /mnt/sda/Videos/single_20mm_1x1/20220203-0951_...      2     0.033333  \n",
       "3      /mnt/sda/Videos/single_20mm_1x1/20220203-0951_...      3         0.05  \n",
       "4      /mnt/sda/Videos/single_20mm_1x1/20220203-0951_...      4     0.066667  \n",
       "...                                                  ...    ...          ...  \n",
       "73653  /mnt/sda/Videos/single_20mm_1x1/20220203-0951_...  73653      1227.55  \n",
       "73654  /mnt/sda/Videos/single_20mm_1x1/20220203-0951_...  73654  1227.566667  \n",
       "73655  /mnt/sda/Videos/single_20mm_1x1/20220203-0951_...  73655  1227.583333  \n",
       "73656  /mnt/sda/Videos/single_20mm_1x1/20220203-0951_...  73656       1227.6  \n",
       "73657  /mnt/sda/Videos/single_20mm_1x1/20220203-0951_...  73657  1227.616667  \n",
       "\n",
       "[73658 rows x 39 columns]"
      ]
     },
     "execution_count": 66,
     "metadata": {},
     "output_type": "execute_result"
    }
   ],
   "source": [
    "trk"
   ]
  },
  {
   "cell_type": "code",
   "execution_count": null,
   "id": "be876cda",
   "metadata": {},
   "outputs": [],
   "source": []
  }
 ],
 "metadata": {
  "kernelspec": {
   "display_name": "Python 3",
   "language": "python",
   "name": "python3"
  },
  "language_info": {
   "codemirror_mode": {
    "name": "ipython",
    "version": 3
   },
   "file_extension": ".py",
   "mimetype": "text/x-python",
   "name": "python",
   "nbconvert_exporter": "python",
   "pygments_lexer": "ipython3",
   "version": "3.8.8"
  }
 },
 "nbformat": 4,
 "nbformat_minor": 5
}
