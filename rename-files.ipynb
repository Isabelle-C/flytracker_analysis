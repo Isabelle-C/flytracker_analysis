{
 "cells": [
  {
   "cell_type": "code",
   "execution_count": 1,
   "id": "4b5babf9",
   "metadata": {},
   "outputs": [],
   "source": [
    "import os\n",
    "import glob\n"
   ]
  },
  {
   "cell_type": "code",
   "execution_count": null,
   "id": "cce53ee2",
   "metadata": {},
   "outputs": [],
   "source": []
  },
  {
   "cell_type": "code",
   "execution_count": 2,
   "id": "5565d6f5",
   "metadata": {},
   "outputs": [
    {
     "data": {
      "text/plain": [
       "['/mnt/minerva/2p-data/20231215/behavior/20231215_fly3_LC10-GCaMP8m_005.mat',\n",
       " '/mnt/minerva/2p-data/20231215/behavior/20231215_fly1_LC10-GCaMP8m_004.mat',\n",
       " '/mnt/minerva/2p-data/20231215/behavior/20231215_fly1_LC10-GCaMP8m_003.mat',\n",
       " '/mnt/minerva/2p-data/20231215/behavior/20231215_fly3_LC10-GCaMP8m_006.mat',\n",
       " '/mnt/minerva/2p-data/20231215/behavior/20231215_fly3_LC10-GCaMP8m_001.mat',\n",
       " '/mnt/minerva/2p-data/20231215/behavior/20231215_fly1_LC10-GCaMP8m_002.mat',\n",
       " '/mnt/minerva/2p-data/20231215/behavior/20231215_fly3_LC10-GCaMP8m_002.mat',\n",
       " '/mnt/minerva/2p-data/20231215/behavior/20231215_fly1_LC10-GCaMP8m_001.mat',\n",
       " '/mnt/minerva/2p-data/20231215/behavior/20231215_fly2_LC10-GCaMP8m_001.mat',\n",
       " '/mnt/minerva/2p-data/20231215/behavior/20231215_fly3_LC10-GCaMP8m_003.mat',\n",
       " '/mnt/minerva/2p-data/20231215/behavior/20231215_fly3_LC10-GCaMP8m_008.mat',\n",
       " '/mnt/minerva/2p-data/20231215/behavior/20231215_fly3_LC10-GCaMP8m_004.mat',\n",
       " '/mnt/minerva/2p-data/20231215/behavior/20231215_fly3_LC10-GCaMP8m_007.mat']"
      ]
     },
     "execution_count": 2,
     "metadata": {},
     "output_type": "execute_result"
    }
   ],
   "source": [
    "src = '/mnt/minerva/2p-data/20231215/behavior'\n",
    "\n",
    "matfns = glob.glob(os.path.join(src, '*.mat'))\n",
    "matfns"
   ]
  },
  {
   "cell_type": "code",
   "execution_count": 4,
   "id": "a3a4c57a",
   "metadata": {},
   "outputs": [
    {
     "name": "stdout",
     "output_type": "stream",
     "text": [
      "/mnt/minerva/2p-data/20231215/behavior/20231215_fly3_LC10a-GCaMP8m_005.mat\n",
      "/mnt/minerva/2p-data/20231215/behavior/20231215_fly1_LC10a-GCaMP8m_004.mat\n",
      "/mnt/minerva/2p-data/20231215/behavior/20231215_fly1_LC10a-GCaMP8m_003.mat\n",
      "/mnt/minerva/2p-data/20231215/behavior/20231215_fly3_LC10a-GCaMP8m_006.mat\n",
      "/mnt/minerva/2p-data/20231215/behavior/20231215_fly3_LC10a-GCaMP8m_001.mat\n",
      "/mnt/minerva/2p-data/20231215/behavior/20231215_fly1_LC10a-GCaMP8m_002.mat\n",
      "/mnt/minerva/2p-data/20231215/behavior/20231215_fly3_LC10a-GCaMP8m_002.mat\n",
      "/mnt/minerva/2p-data/20231215/behavior/20231215_fly1_LC10a-GCaMP8m_001.mat\n",
      "/mnt/minerva/2p-data/20231215/behavior/20231215_fly2_LC10a-GCaMP8m_001.mat\n",
      "/mnt/minerva/2p-data/20231215/behavior/20231215_fly3_LC10a-GCaMP8m_003.mat\n",
      "/mnt/minerva/2p-data/20231215/behavior/20231215_fly3_LC10a-GCaMP8m_008.mat\n",
      "/mnt/minerva/2p-data/20231215/behavior/20231215_fly3_LC10a-GCaMP8m_004.mat\n",
      "/mnt/minerva/2p-data/20231215/behavior/20231215_fly3_LC10a-GCaMP8m_007.mat\n"
     ]
    }
   ],
   "source": [
    "for fn in matfns:\n",
    "    new_fn = fn.replace('LC10-', 'LC10a-')\n",
    "    print(new_fn)\n",
    "    os.rename(fn, new_fn)"
   ]
  },
  {
   "cell_type": "code",
   "execution_count": null,
   "id": "1035a000",
   "metadata": {},
   "outputs": [],
   "source": []
  }
 ],
 "metadata": {
  "kernelspec": {
   "display_name": "Python 3",
   "language": "python",
   "name": "python3"
  },
  "language_info": {
   "codemirror_mode": {
    "name": "ipython",
    "version": 3
   },
   "file_extension": ".py",
   "mimetype": "text/x-python",
   "name": "python",
   "nbconvert_exporter": "python",
   "pygments_lexer": "ipython3",
   "version": "3.8.12"
  }
 },
 "nbformat": 4,
 "nbformat_minor": 5
}
